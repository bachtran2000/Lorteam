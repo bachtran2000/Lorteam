{
 "metadata": {
  "language_info": {
   "codemirror_mode": {
    "name": "ipython",
    "version": 3
   },
   "file_extension": ".py",
   "mimetype": "text/x-python",
   "name": "python",
   "nbconvert_exporter": "python",
   "pygments_lexer": "ipython3",
   "version": "3.8.5-final"
  },
  "orig_nbformat": 2,
  "kernelspec": {
   "name": "myenv",
   "display_name": "myenv"
  }
 },
 "nbformat": 4,
 "nbformat_minor": 2,
 "cells": [
  {
   "cell_type": "code",
   "execution_count": 1,
   "metadata": {},
   "outputs": [],
   "source": [
    "import pandas as pd\n",
    "import numpy as np"
   ]
  },
  {
   "cell_type": "code",
   "execution_count": 106,
   "metadata": {},
   "outputs": [],
   "source": [
    "data= pd.read_csv('data_clean_train_16_11.csv',index_col = False)"
   ]
  },
  {
   "cell_type": "code",
   "execution_count": 107,
   "metadata": {},
   "outputs": [
    {
     "output_type": "stream",
     "name": "stdout",
     "text": [
      "{'Công ty CP Eco Land': 45, 'Công ty CP Đầu tư Phát triển Nhà Thăng Long - Việt Nam': 35, 'Công ty TNHH Thương mại - Quảng cáo - Xây dựng - Địa ốc Việt Hân': 255, 'Công ty CP Đầu tư Xây dựng số 9 Hà Nội': 161, 'Công ty CP Tập đoàn Sunshine': 372, 'Công ty CP tập đoàn S.S.G': 39, nan: 2326, 'HD Mon Holdings': 64, 'Công ty CP Xuất nhập khẩu tổng hợp Hà Nội - Geleximco': 304, 'Công ty TNHH MTV đầu tư Phương Đông': 77, 'Tập đoàn Vingroup': 1339, 'Công ty TNHH Indochina Land': 30, 'Công ty CP Nông sản Agrexim': 16, 'Công ty TNHH Gamuda Land Việt Nam': 96, 'Doanh nghiệp tư nhân xây dựng số 1 tỉnh Điện Biên': 420, 'Công ty CP Đầu tư Phú Thượng ': 147, 'Công ty CP Đầu tư Dầu khí Toàn cầu ': 46, 'Tân Hoàng Minh Group': 293, 'Công ty TNHH Thiên Hương': 39, 'Công ty TNHH phát triển khu đô thị Nam Thăng Long': 106, 'Tổng Công ty Đầu tư phát triển nhà và đô thị Bộ Quốc Phòng ': 38, 'Công ty CP Đầu tư Hạ tầng và Công trình Kiến trúc Hà Nội': 21, 'Công ty TSQ Việt Nam': 61, 'Công ty CP Hóa Dầu Quân Đội': 85, 'Công ty CP Terra Gold Việt Nam': 62, 'Công ty CP Phát triển Đô thị Từ Liêm - LIDECO, JSC': 41, 'Công ty Cổ phần Tập đoàn FLC': 103, 'Tổng công ty Xây dựng Thanh Hóa - Công ty Cổ phần': 122, 'Công ty CP Đầu tư và Xây dựng số 1 Hà Nội': 29, 'Công ty CP Xây dựng và Thương mại Bắc Hà': 153, 'Công ty CP Đầu tư và Phát triển nhà số 6 Hà Nội ': 9, 'Công ty CP Đầu tư Địa ốc Sông Hồng': 7, 'Tập đoàn Hà Đô': 36, 'Công ty Đầu tư Xây dựng số 2 Hà Nội': 95, 'Tập đoàn Mường Thanh': 33, 'Tập đoàn Sun Group': 178, 'Tập đoàn Jaccar Bourbon': 2, 'Công ty CP Xây dựng số 3 - VINACONEX3': 31, 'Tập đoàn CapitaLand': 101, 'Công ty CP Đầu tư Hải Phát': 61, 'Công ty TNHH Bất động sản và Xây dựng Việt Hưng': 113, 'Bộ Tham Mưu - Bộ Tư Lệnh Bộ Đội Biên Phòng': 4, 'Công ty CP Xây dựng Sông Hồng - Incomex': 27, 'Công ty CP Đầu tư Văn Phú - Invest': 132, 'Công ty Cổ phần Tasco': 2, 'Công ty CP Xây lắp Điện 1': 45, 'Công ty CP Đầu tư Kinh doanh và Phát triển hạ tầng KCN Phúc Hà': 53, 'Tổng Công ty Đầu tư Phát triển Nhà và Đô thị HUD': 199, 'Công ty TNHH Phát triển T.H.T': 8, 'Công ty CP Bất động sản Hanovid': 28, 'Tổng Công ty CP Thương mại Xây dựng': 12, 'Công ty CP Xây dựng số 2 - Vinaconex2': 125, 'Công ty CP đầu tư xây dựng và phát triển nhà số 5  ': 7, 'Công ty CP Hoa Anh Đào': 26, 'Công ty CP Đầu tư và Xây dựng Xuân Mai': 63, 'Công ty Xây dựng Dân Dụng': 36, 'Công ty CP Xây dựng Phục Hưng Holdings': 25, 'Xí nghiệp Xây dựng Tư nhân Số 1 Lai Châu': 90, 'Công ty CP Đầu tư Hải Đăng': 45, 'Tổng công ty 789 ': 13, 'Tổng công ty CP Xuất nhập khẩu và Xây dựng Việt Nam': 37, 'Công ty CP Tu tạo và Phát triển nhà - Handico': 15, 'Công ty CP Ngôi sao An Bình': 52, 'Công ty Xây dựng số 3 Hà Nội ': 7, 'Công ty TNHH Đầu tư Xây dựng và Phát triển Hạ tầng': 17, 'Công ty CP Sông Đà 7': 83, 'Công ty CP Đầu tư - Thiết kế và Xây dựng Việt Nam': 64, 'Tổng công ty Đầu tư Phát triển Hạ tầng đô thị - UDIC': 146, 'Công ty CP Đầu tư Xây dựng Phát triển nhà số 7 Hà Nội ': 78, 'Công ty CP Sông Đà 1.01': 17, 'Công ty CP Eurowindow Holding': 10, 'Công ty TNHH 19-12 Bắc Hà': 58, 'Công ty Cổ phần Đầu tư Mai Linh': 13, 'Công ty CP Đầu tư Bất động sản Hapulico': 9, 'Công ty Booyoung': 75, 'Tổng Công ty Viglacera': 58, 'Công ty CP xây dựng số 1 Hà Nội': 26, 'Công ty CP Sông Đà Thăng Long': 39, 'Công ty CP Tòa nhà CFTD-VLA': 33, 'Công ty CP Sông Đà - Hoàng Long ': 35, 'Tập đoàn Anh Quân Strong ': 33, 'Công ty CP Đầu tư xây dựng và phát triển Công nghệ cao - Decotech': 9, 'Công ty Liên doanh Hà Việt – Tungshing': 17, 'Công ty CP Bất động sản Hải Phát': 101, 'Công ty CP Đầu tư và Kinh doanh Bất động sản Hà Nội Sông Hồng': 3, 'Công ty CP Tập đoàn Nam Cường Hà Nội': 179, 'Công ty CP Đầu tư và Phát triển Hòa Bình - HBI': 115, 'Công ty CP Đầu tư và Xây dựng Tân Việt': 2, 'Công ty CP Đầu tư - Xây dựng Hà Nội': 3, 'Tổng Công ty xây dựng công trình giao thông 1': 5, 'Công ty CP Lộc Ninh': 11, 'Công ty CP TID': 22, 'Công ty CP Đầu tư Điện lực Hà Nội': 9, 'Tổng công ty 36 - Bộ quốc phòng': 46, 'Công ty CP Đầu tư phát triển nhà Constrexim': 9, 'Công ty CP Đầu tư và Xây dựng HUD1': 23, 'Công ty CP Thiết bị Vật tư Du Lịch': 2, 'Tập đoàn Hòa Phát': 32, 'Công ty CP Đầu tư Sài Gòn - Hà Nội': 7, 'Công ty CP may Hồ Gươm - HOGARSCO': 8, 'Công ty CP Đại Việt Trí Tuệ': 40, 'Công ty TNHH Bánh kẹo Thăng Long': 13, 'Công ty CP BIC Việt Nam': 15, 'Công ty CP Đầu tư Phát triển nhà và Xây dựng Tây Hồ': 8, 'Công ty CP Đầu tư Đô thị Kang Long': 3, 'Tập đoàn BRG': 5, 'Công ty CP Đầu tư Thương mại Dịch vụ Cầu Giấy': 22, 'Công ty CP Thương mại Minh Vĩnh Khang': 3, 'TTTM XNK Hàng tiêu dùng và Thủ công Mỹ nghệ Hà Nội': 1, 'Công ty CP tư vấn Thủy Lợi Hà Tây': 3, 'Công ty CP Đầu tư Đồng Phát': 4, 'Công ty TNHH Thăng Long ': 9, 'Công ty CP Trần Hưng Đạo': 3, 'OCEAN GROUP - Tập Đoàn Đại Dương': 12, 'Công ty CP Đầu tư Phát triển Đô thị và KCN Sông Đà - Sudico': 23, 'Tổng công ty Phát triển Phát thanh Truyền hình Thông tin Emico': 21, 'Tổng công ty Cơ khí Xây dựng - Coma': 8, 'Công ty CP Đầu tư và Thương mại Thủ Đô': 37, 'Tổng Công ty Đầu Tư và Phát Triển Nhà Hà Nội - Handico': 64, 'Công ty Cổ phần Địa ốc MB': 28, 'Công ty CP Xây dựng và Kỹ thuật Việt Nam ': 17, 'Công ty xây dựng 319 Bộ Quốc phòng': 41, 'Công ty CP Đầu tư Lạc Hồng': 13, 'Tổng công ty CP Phong Phú': 15, 'Công ty TNHH Hyundai RNC Hà Tây': 18, 'Công ty CP Đầu tư và Thương mại Thăng Long': 35, 'Công ty CP Đầu tư và Phát triển Đô thị Long Giang': 31, 'Công ty CP Tập đoàn Xây dựng và Thiết bị Công nghiệp CIE Corp': 32, 'Tổng công ty Xây dựng Hà Nội': 26, 'Công ty CP Đầu tư và Xây dựng HUD3': 23, 'Công ty TNHH Xuân Phương': 6, 'Công ty TNHH Khách sạn Kinh Đô': 2, 'Công ty CP Tập đoàn Xây dựng Nhà Đất': 2, 'Công ty CP Đầu tư Dịch vụ Tài chính Hoàng Huy': 20, 'Công ty CP Vật tư Vận tải Xi măng ': 5, 'Công ty CP Xây dựng Công nghiệp ICC': 3, 'Công ty CP Thi công cơ giới xây lắp': 11, 'Công ty CP Phát triển tài trợ  Địa ốc R.C': 47, 'Công ty CP đầu tư phát triển nhà và đô thị VINACONEX': 8, 'Công ty CP Đầu tư Xây dựng Hạ tầng và Giao Thông': 15, 'Công ty Cổ phần Đầu tư Bất động sản An Bình': 5, 'Công ty CP May Thăng Long': 7, 'Công ty CP ACC - Thăng Long': 4, 'Công ty Cổ phần 118  – Momota': 6, 'Tập đoàn Bitexco': 24, 'Công ty CP Đầu tư Hải Phát Thủ Đô': 15, 'Công ty CP Xây dựng và Phát triển Hạ tầng Đô thị - BID Việt Nam': 32, 'Công ty CP tập đoàn Đầu tư Ba Đình (B.I.G)': 8, 'Công ty CP Xây dựng Công nghiệp - DESCON': 16, 'Công ty TNHH Khải Hưng': 4, 'Công ty CP Đầu Tư Xây Dựng và Phát Triển Đô Thị Sông Đà': 5, 'Công ty TNHH Đầu tư C.T.L': 4, 'Công ty CP Kỹ nghệ và Hạ tầng Talin': 4, 'Công ty TNHH Nhà nước MTV Kinh doanh Dịch vụ nhà Hà Nội': 8, 'Tập đoàn Tecco': 3, ' Công ty TNHH Một thành viên quản lý và phát triển nhà Hà Nội': 14, 'Công ty CP tập đoàn ĐTXD phát triển Đông Đô - BQP': 2, 'Công ty Cổ phần Licogi 12': 3, 'Công ty CP Sản xuất và Xuất nhập khẩu Bao bì': 4, 'Công ty CP Vimeco': 17, 'Công TNHH Bắc Chương Dương': 8, 'Công ty CP Xây dựng và Phát triển Đô thị Hòa Phát': 5, 'Công ty CP Đầu tư và Phát triển nhà Hà Nội 22 (Handico 22)': 4, 'Tổng công ty đầu tư phát triển nhà và đô thị Bộ Quốc Phòng': 34, 'Công ty CP Tập đoàn Trung Thủy': 5, 'Công ty CP Đầu tư Bất động sản Hà Nội': 2, 'Công ty CP Tháp nước Hà Nội': 5, 'Công ty CP Tân Phú Long': 2, 'Công ty CP Đầu tư Phát triển Hà Thành': 3, 'Công ty CP Đầu tư Phát triển Đô thị Thăng Long': 17, 'Công ty CP Đầu tư Bất động sản Đông Đô - BQP': 13, 'Công ty CP Xây dựng Bảo tàng Hồ Chí Minh': 2, 'Tập đoàn Keangnam Enterprise': 5, 'Công ty TNHH Quốc tế Liên doanh VINACONEX – TAISEI ': 3, 'Công ty Cổ phần TASCO': 3, 'Công ty CP Phát triển Thanh Xuân': 6, 'Công ty CP Đầu tư Xây dựng Dân dụng Hà Nội ': 3, 'Công ty CP Đầu tư và Xây dựng Quốc tế Vigeba': 3, 'Công ty CP Đầu tư – Xây dựng Tây Hà': 4, 'Công ty TNHH Hibrand Việt Nam': 3, 'C.T Group': 6, 'Công ty TNHH Hanotex': 11, 'Công ty CP Tập đoàn T&T': 4, 'Công ty CP Đầu tư An Lạc': 6, 'Công ty CP Đầu tư Bất động sản Phú Mỹ': 10, 'Công ty TNHH xây dựng công trình Hoàng Hà': 1, 'Công ty TNHH MTV Đầu  tư Xây lắp và Phát triển Nhà': 4, 'Công ty CP Lắp Máy Điện nước và Xây Dựng': 2, 'Công ty CP Bất động sản Mê Kông': 1, 'Công ty TNHH Hoà Bình': 6, 'Công ty CP Đầu tư và Phát triển Thương mại Kinh Đô': 3, 'Công ty CP Xây dựng số 7': 4, 'Công ty Cổ phần Xây Dựng Số 5': 1, 'Công ty CP Mộc và Xây dựng Hà Nội': 2, 'Công ty CP Bất động sản AZ (AZ Land)': 1, 'Công ty CP Dịch vụ Hàng không Thăng Long ': 2, 'Công ty CP Đầu tư và Phát triển nhà Hà Nội số 68 - HANDICO 68': 2, 'Công ty CP Thanh Bình Hà Nội': 2, 'Công ty Thương mại Dịch vụ Tràng Thi': 3, 'Công ty CP Du lịch Hà Tây': 1, 'Công ty Cổ phần Lilama Hà Nội': 1, 'Công ty CP đầu tư & xây dựng Ba Đình số 1': 1, 'Công ty CP Đầu tư Xây dựng NHS': 4, 'Công ty CP Đầu tư Xây dựng BĐS Lanmak': 4, 'Công ty CP Đầu tư và Phát triển Hạ tầng VINACONEX - ALPHANAM': 1, 'Công ty CP Thương mại Hà Tây': 3, 'Công ty CP Kinh doanh Phát triển nhà và Đô thị Hà Nội (HanHud)': 1, 'Công ty CP Sản xuất Dịch vụ Xuất nhập khẩu Từ Liêm': 4, 'Công ty CP thương mại Cầu Giấy CTM': 2, 'Công ty CP Xuất nhập khẩu Tổng hợp I Việt Nam': 1, 'Tổng công ty Xây dựng và Phát triển hạ tầng Licogi': 1, 'Công ty Cổ phần Cơ điện và Xây dựng Việt Nam': 2, 'Công ty CP Bất động sản Dầu khí - Petrowaco': 1, 'Công ty CP Vinaconex 21': 1, 'Công ty CP Đầu tư XD và xuất nhập khẩu Phục Hưng': 1, 'Công ty TNHH Xây dựng và Thương mại Bình Vượng': 3, 'Công ty CP Thương mại và Dịch vụ Tổng hợp Vinh Hạnh': 2, 'Công ty TNHH Nhà nước một thành viên Thăng Long GTC': 1, 'Công ty CP Xây dựng Số 1': 2, 'Công ty CP Vinaconex 6': 1, 'Công ty CP Đầu tư và Xuất nhập khẩu Mỹ Sơn': 1, 'Tổng Công ty CP Đầu tư Xây dựng và Thương mại Việt Nam': 3, 'Công ty CP Đầu tư Xây lắp Dầu khí Việt Nam': 1, 'Công ty CP Đầu tư 135': 1, 'Công ty CP Him Lam': 1, 'Công ty CP Cơ khí Xây dựng Đại Mỗ - Coma 6': 1, 'Công ty CP SME Hoàng Gia': 1}\n"
     ]
    },
    {
     "output_type": "execute_result",
     "data": {
      "text/plain": [
       "0         45\n",
       "1         35\n",
       "2        255\n",
       "3        161\n",
       "4        372\n",
       "        ... \n",
       "11159    255\n",
       "11160      1\n",
       "11161    255\n",
       "11162     46\n",
       "11163      1\n",
       "Name: ChuDauTu, Length: 11164, dtype: int32"
      ]
     },
     "metadata": {},
     "execution_count": 107
    }
   ],
   "source": [
    "dict = {}\n",
    "count = 0\n",
    "for nhaDauTu in data['ChuDauTu']:\n",
    "    if(nhaDauTu in dict) == False:\n",
    "        dict[nhaDauTu]=  1\n",
    "    else:\n",
    "        dict[nhaDauTu]= dict[nhaDauTu] + 1\n",
    "print(dict)\n",
    "for i in range(len(data['ChuDauTu'])):\n",
    "    for kiemTra in dict.keys():\n",
    "        if kiemTra == data['ChuDauTu'][i]:\n",
    "           data['ChuDauTu'][i] = dict[kiemTra]\n",
    "data['ChuDauTu'] = data['ChuDauTu'].fillna(1)\n",
    "data['ChuDauTu'].astype(int)"
   ]
  },
  {
   "cell_type": "code",
   "execution_count": 108,
   "metadata": {},
   "outputs": [
    {
     "output_type": "execute_result",
     "data": {
      "text/plain": [
       "{'Công ty CP Eco Land': 45,\n",
       " 'Công ty CP Đầu tư Phát triển Nhà Thăng Long - Việt Nam': 35,\n",
       " 'Công ty TNHH Thương mại - Quảng cáo - Xây dựng - Địa ốc Việt Hân': 255,\n",
       " 'Công ty CP Đầu tư Xây dựng số 9 Hà Nội': 161,\n",
       " 'Công ty CP Tập đoàn Sunshine': 372,\n",
       " 'Công ty CP tập đoàn S.S.G': 39,\n",
       " nan: 2326,\n",
       " 'HD Mon Holdings': 64,\n",
       " 'Công ty CP Xuất nhập khẩu tổng hợp Hà Nội - Geleximco': 304,\n",
       " 'Công ty TNHH MTV đầu tư Phương Đông': 77,\n",
       " 'Tập đoàn Vingroup': 1339,\n",
       " 'Công ty TNHH Indochina Land': 30,\n",
       " 'Công ty CP Nông sản Agrexim': 16,\n",
       " 'Công ty TNHH Gamuda Land Việt Nam': 96,\n",
       " 'Doanh nghiệp tư nhân xây dựng số 1 tỉnh Điện Biên': 420,\n",
       " 'Công ty CP Đầu tư Phú Thượng ': 147,\n",
       " 'Công ty CP Đầu tư Dầu khí Toàn cầu ': 46,\n",
       " 'Tân Hoàng Minh Group': 293,\n",
       " 'Công ty TNHH Thiên Hương': 39,\n",
       " 'Công ty TNHH phát triển khu đô thị Nam Thăng Long': 106,\n",
       " 'Tổng Công ty Đầu tư phát triển nhà và đô thị Bộ Quốc Phòng ': 38,\n",
       " 'Công ty CP Đầu tư Hạ tầng và Công trình Kiến trúc Hà Nội': 21,\n",
       " 'Công ty TSQ Việt Nam': 61,\n",
       " 'Công ty CP Hóa Dầu Quân Đội': 85,\n",
       " 'Công ty CP Terra Gold Việt Nam': 62,\n",
       " 'Công ty CP Phát triển Đô thị Từ Liêm - LIDECO, JSC': 41,\n",
       " 'Công ty Cổ phần Tập đoàn FLC': 103,\n",
       " 'Tổng công ty Xây dựng Thanh Hóa - Công ty Cổ phần': 122,\n",
       " 'Công ty CP Đầu tư và Xây dựng số 1 Hà Nội': 29,\n",
       " 'Công ty CP Xây dựng và Thương mại Bắc Hà': 153,\n",
       " 'Công ty CP Đầu tư và Phát triển nhà số 6 Hà Nội ': 9,\n",
       " 'Công ty CP Đầu tư Địa ốc Sông Hồng': 7,\n",
       " 'Tập đoàn Hà Đô': 36,\n",
       " 'Công ty Đầu tư Xây dựng số 2 Hà Nội': 95,\n",
       " 'Tập đoàn Mường Thanh': 33,\n",
       " 'Tập đoàn Sun Group': 178,\n",
       " 'Tập đoàn Jaccar Bourbon': 2,\n",
       " 'Công ty CP Xây dựng số 3 - VINACONEX3': 31,\n",
       " 'Tập đoàn CapitaLand': 101,\n",
       " 'Công ty CP Đầu tư Hải Phát': 61,\n",
       " 'Công ty TNHH Bất động sản và Xây dựng Việt Hưng': 113,\n",
       " 'Bộ Tham Mưu - Bộ Tư Lệnh Bộ Đội Biên Phòng': 4,\n",
       " 'Công ty CP Xây dựng Sông Hồng - Incomex': 27,\n",
       " 'Công ty CP Đầu tư Văn Phú - Invest': 132,\n",
       " 'Công ty Cổ phần Tasco': 2,\n",
       " 'Công ty CP Xây lắp Điện 1': 45,\n",
       " 'Công ty CP Đầu tư Kinh doanh và Phát triển hạ tầng KCN Phúc Hà': 53,\n",
       " 'Tổng Công ty Đầu tư Phát triển Nhà và Đô thị HUD': 199,\n",
       " 'Công ty TNHH Phát triển T.H.T': 8,\n",
       " 'Công ty CP Bất động sản Hanovid': 28,\n",
       " 'Tổng Công ty CP Thương mại Xây dựng': 12,\n",
       " 'Công ty CP Xây dựng số 2 - Vinaconex2': 125,\n",
       " 'Công ty CP đầu tư xây dựng và phát triển nhà số 5  ': 7,\n",
       " 'Công ty CP Hoa Anh Đào': 26,\n",
       " 'Công ty CP Đầu tư và Xây dựng Xuân Mai': 63,\n",
       " 'Công ty Xây dựng Dân Dụng': 36,\n",
       " 'Công ty CP Xây dựng Phục Hưng Holdings': 25,\n",
       " 'Xí nghiệp Xây dựng Tư nhân Số 1 Lai Châu': 90,\n",
       " 'Công ty CP Đầu tư Hải Đăng': 45,\n",
       " 'Tổng công ty 789 ': 13,\n",
       " 'Tổng công ty CP Xuất nhập khẩu và Xây dựng Việt Nam': 37,\n",
       " 'Công ty CP Tu tạo và Phát triển nhà - Handico': 15,\n",
       " 'Công ty CP Ngôi sao An Bình': 52,\n",
       " 'Công ty Xây dựng số 3 Hà Nội ': 7,\n",
       " 'Công ty TNHH Đầu tư Xây dựng và Phát triển Hạ tầng': 17,\n",
       " 'Công ty CP Sông Đà 7': 83,\n",
       " 'Công ty CP Đầu tư - Thiết kế và Xây dựng Việt Nam': 64,\n",
       " 'Tổng công ty Đầu tư Phát triển Hạ tầng đô thị - UDIC': 146,\n",
       " 'Công ty CP Đầu tư Xây dựng Phát triển nhà số 7 Hà Nội ': 78,\n",
       " 'Công ty CP Sông Đà 1.01': 17,\n",
       " 'Công ty CP Eurowindow Holding': 10,\n",
       " 'Công ty TNHH 19-12 Bắc Hà': 58,\n",
       " 'Công ty Cổ phần Đầu tư Mai Linh': 13,\n",
       " 'Công ty CP Đầu tư Bất động sản Hapulico': 9,\n",
       " 'Công ty Booyoung': 75,\n",
       " 'Tổng Công ty Viglacera': 58,\n",
       " 'Công ty CP xây dựng số 1 Hà Nội': 26,\n",
       " 'Công ty CP Sông Đà Thăng Long': 39,\n",
       " 'Công ty CP Tòa nhà CFTD-VLA': 33,\n",
       " 'Công ty CP Sông Đà - Hoàng Long ': 35,\n",
       " 'Tập đoàn Anh Quân Strong ': 33,\n",
       " 'Công ty CP Đầu tư xây dựng và phát triển Công nghệ cao - Decotech': 9,\n",
       " 'Công ty Liên doanh Hà Việt – Tungshing': 17,\n",
       " 'Công ty CP Bất động sản Hải Phát': 101,\n",
       " 'Công ty CP Đầu tư và Kinh doanh Bất động sản Hà Nội Sông Hồng': 3,\n",
       " 'Công ty CP Tập đoàn Nam Cường Hà Nội': 179,\n",
       " 'Công ty CP Đầu tư và Phát triển Hòa Bình - HBI': 115,\n",
       " 'Công ty CP Đầu tư và Xây dựng Tân Việt': 2,\n",
       " 'Công ty CP Đầu tư - Xây dựng Hà Nội': 3,\n",
       " 'Tổng Công ty xây dựng công trình giao thông 1': 5,\n",
       " 'Công ty CP Lộc Ninh': 11,\n",
       " 'Công ty CP TID': 22,\n",
       " 'Công ty CP Đầu tư Điện lực Hà Nội': 9,\n",
       " 'Tổng công ty 36 - Bộ quốc phòng': 46,\n",
       " 'Công ty CP Đầu tư phát triển nhà Constrexim': 9,\n",
       " 'Công ty CP Đầu tư và Xây dựng HUD1': 23,\n",
       " 'Công ty CP Thiết bị Vật tư Du Lịch': 2,\n",
       " 'Tập đoàn Hòa Phát': 32,\n",
       " 'Công ty CP Đầu tư Sài Gòn - Hà Nội': 7,\n",
       " 'Công ty CP may Hồ Gươm - HOGARSCO': 8,\n",
       " 'Công ty CP Đại Việt Trí Tuệ': 40,\n",
       " 'Công ty TNHH Bánh kẹo Thăng Long': 13,\n",
       " 'Công ty CP BIC Việt Nam': 15,\n",
       " 'Công ty CP Đầu tư Phát triển nhà và Xây dựng Tây Hồ': 8,\n",
       " 'Công ty CP Đầu tư Đô thị Kang Long': 3,\n",
       " 'Tập đoàn BRG': 5,\n",
       " 'Công ty CP Đầu tư Thương mại Dịch vụ Cầu Giấy': 22,\n",
       " 'Công ty CP Thương mại Minh Vĩnh Khang': 3,\n",
       " 'TTTM XNK Hàng tiêu dùng và Thủ công Mỹ nghệ Hà Nội': 1,\n",
       " 'Công ty CP tư vấn Thủy Lợi Hà Tây': 3,\n",
       " 'Công ty CP Đầu tư Đồng Phát': 4,\n",
       " 'Công ty TNHH Thăng Long ': 9,\n",
       " 'Công ty CP Trần Hưng Đạo': 3,\n",
       " 'OCEAN GROUP - Tập Đoàn Đại Dương': 12,\n",
       " 'Công ty CP Đầu tư Phát triển Đô thị và KCN Sông Đà - Sudico': 23,\n",
       " 'Tổng công ty Phát triển Phát thanh Truyền hình Thông tin Emico': 21,\n",
       " 'Tổng công ty Cơ khí Xây dựng - Coma': 8,\n",
       " 'Công ty CP Đầu tư và Thương mại Thủ Đô': 37,\n",
       " 'Tổng Công ty Đầu Tư và Phát Triển Nhà Hà Nội - Handico': 64,\n",
       " 'Công ty Cổ phần Địa ốc MB': 28,\n",
       " 'Công ty CP Xây dựng và Kỹ thuật Việt Nam ': 17,\n",
       " 'Công ty xây dựng 319 Bộ Quốc phòng': 41,\n",
       " 'Công ty CP Đầu tư Lạc Hồng': 13,\n",
       " 'Tổng công ty CP Phong Phú': 15,\n",
       " 'Công ty TNHH Hyundai RNC Hà Tây': 18,\n",
       " 'Công ty CP Đầu tư và Thương mại Thăng Long': 35,\n",
       " 'Công ty CP Đầu tư và Phát triển Đô thị Long Giang': 31,\n",
       " 'Công ty CP Tập đoàn Xây dựng và Thiết bị Công nghiệp CIE Corp': 32,\n",
       " 'Tổng công ty Xây dựng Hà Nội': 26,\n",
       " 'Công ty CP Đầu tư và Xây dựng HUD3': 23,\n",
       " 'Công ty TNHH Xuân Phương': 6,\n",
       " 'Công ty TNHH Khách sạn Kinh Đô': 2,\n",
       " 'Công ty CP Tập đoàn Xây dựng Nhà Đất': 2,\n",
       " 'Công ty CP Đầu tư Dịch vụ Tài chính Hoàng Huy': 20,\n",
       " 'Công ty CP Vật tư Vận tải Xi măng ': 5,\n",
       " 'Công ty CP Xây dựng Công nghiệp ICC': 3,\n",
       " 'Công ty CP Thi công cơ giới xây lắp': 11,\n",
       " 'Công ty CP Phát triển tài trợ  Địa ốc R.C': 47,\n",
       " 'Công ty CP đầu tư phát triển nhà và đô thị VINACONEX': 8,\n",
       " 'Công ty CP Đầu tư Xây dựng Hạ tầng và Giao Thông': 15,\n",
       " 'Công ty Cổ phần Đầu tư Bất động sản An Bình': 5,\n",
       " 'Công ty CP May Thăng Long': 7,\n",
       " 'Công ty CP ACC - Thăng Long': 4,\n",
       " 'Công ty Cổ phần 118  – Momota': 6,\n",
       " 'Tập đoàn Bitexco': 24,\n",
       " 'Công ty CP Đầu tư Hải Phát Thủ Đô': 15,\n",
       " 'Công ty CP Xây dựng và Phát triển Hạ tầng Đô thị - BID Việt Nam': 32,\n",
       " 'Công ty CP tập đoàn Đầu tư Ba Đình (B.I.G)': 8,\n",
       " 'Công ty CP Xây dựng Công nghiệp - DESCON': 16,\n",
       " 'Công ty TNHH Khải Hưng': 4,\n",
       " 'Công ty CP Đầu Tư Xây Dựng và Phát Triển Đô Thị Sông Đà': 5,\n",
       " 'Công ty TNHH Đầu tư C.T.L': 4,\n",
       " 'Công ty CP Kỹ nghệ và Hạ tầng Talin': 4,\n",
       " 'Công ty TNHH Nhà nước MTV Kinh doanh Dịch vụ nhà Hà Nội': 8,\n",
       " 'Tập đoàn Tecco': 3,\n",
       " ' Công ty TNHH Một thành viên quản lý và phát triển nhà Hà Nội': 14,\n",
       " 'Công ty CP tập đoàn ĐTXD phát triển Đông Đô - BQP': 2,\n",
       " 'Công ty Cổ phần Licogi 12': 3,\n",
       " 'Công ty CP Sản xuất và Xuất nhập khẩu Bao bì': 4,\n",
       " 'Công ty CP Vimeco': 17,\n",
       " 'Công TNHH Bắc Chương Dương': 8,\n",
       " 'Công ty CP Xây dựng và Phát triển Đô thị Hòa Phát': 5,\n",
       " 'Công ty CP Đầu tư và Phát triển nhà Hà Nội 22 (Handico 22)': 4,\n",
       " 'Tổng công ty đầu tư phát triển nhà và đô thị Bộ Quốc Phòng': 34,\n",
       " 'Công ty CP Tập đoàn Trung Thủy': 5,\n",
       " 'Công ty CP Đầu tư Bất động sản Hà Nội': 2,\n",
       " 'Công ty CP Tháp nước Hà Nội': 5,\n",
       " 'Công ty CP Tân Phú Long': 2,\n",
       " 'Công ty CP Đầu tư Phát triển Hà Thành': 3,\n",
       " 'Công ty CP Đầu tư Phát triển Đô thị Thăng Long': 17,\n",
       " 'Công ty CP Đầu tư Bất động sản Đông Đô - BQP': 13,\n",
       " 'Công ty CP Xây dựng Bảo tàng Hồ Chí Minh': 2,\n",
       " 'Tập đoàn Keangnam Enterprise': 5,\n",
       " 'Công ty TNHH Quốc tế Liên doanh VINACONEX – TAISEI ': 3,\n",
       " 'Công ty Cổ phần TASCO': 3,\n",
       " 'Công ty CP Phát triển Thanh Xuân': 6,\n",
       " 'Công ty CP Đầu tư Xây dựng Dân dụng Hà Nội ': 3,\n",
       " 'Công ty CP Đầu tư và Xây dựng Quốc tế Vigeba': 3,\n",
       " 'Công ty CP Đầu tư – Xây dựng Tây Hà': 4,\n",
       " 'Công ty TNHH Hibrand Việt Nam': 3,\n",
       " 'C.T Group': 6,\n",
       " 'Công ty TNHH Hanotex': 11,\n",
       " 'Công ty CP Tập đoàn T&T': 4,\n",
       " 'Công ty CP Đầu tư An Lạc': 6,\n",
       " 'Công ty CP Đầu tư Bất động sản Phú Mỹ': 10,\n",
       " 'Công ty TNHH xây dựng công trình Hoàng Hà': 1,\n",
       " 'Công ty TNHH MTV Đầu  tư Xây lắp và Phát triển Nhà': 4,\n",
       " 'Công ty CP Lắp Máy Điện nước và Xây Dựng': 2,\n",
       " 'Công ty CP Bất động sản Mê Kông': 1,\n",
       " 'Công ty TNHH Hoà Bình': 6,\n",
       " 'Công ty CP Đầu tư và Phát triển Thương mại Kinh Đô': 3,\n",
       " 'Công ty CP Xây dựng số 7': 4,\n",
       " 'Công ty Cổ phần Xây Dựng Số 5': 1,\n",
       " 'Công ty CP Mộc và Xây dựng Hà Nội': 2,\n",
       " 'Công ty CP Bất động sản AZ (AZ Land)': 1,\n",
       " 'Công ty CP Dịch vụ Hàng không Thăng Long ': 2,\n",
       " 'Công ty CP Đầu tư và Phát triển nhà Hà Nội số 68 - HANDICO 68': 2,\n",
       " 'Công ty CP Thanh Bình Hà Nội': 2,\n",
       " 'Công ty Thương mại Dịch vụ Tràng Thi': 3,\n",
       " 'Công ty CP Du lịch Hà Tây': 1,\n",
       " 'Công ty Cổ phần Lilama Hà Nội': 1,\n",
       " 'Công ty CP đầu tư & xây dựng Ba Đình số 1': 1,\n",
       " 'Công ty CP Đầu tư Xây dựng NHS': 4,\n",
       " 'Công ty CP Đầu tư Xây dựng BĐS Lanmak': 4,\n",
       " 'Công ty CP Đầu tư và Phát triển Hạ tầng VINACONEX - ALPHANAM': 1,\n",
       " 'Công ty CP Thương mại Hà Tây': 3,\n",
       " 'Công ty CP Kinh doanh Phát triển nhà và Đô thị Hà Nội (HanHud)': 1,\n",
       " 'Công ty CP Sản xuất Dịch vụ Xuất nhập khẩu Từ Liêm': 4,\n",
       " 'Công ty CP thương mại Cầu Giấy CTM': 2,\n",
       " 'Công ty CP Xuất nhập khẩu Tổng hợp I Việt Nam': 1,\n",
       " 'Tổng công ty Xây dựng và Phát triển hạ tầng Licogi': 1,\n",
       " 'Công ty Cổ phần Cơ điện và Xây dựng Việt Nam': 2,\n",
       " 'Công ty CP Bất động sản Dầu khí - Petrowaco': 1,\n",
       " 'Công ty CP Vinaconex 21': 1,\n",
       " 'Công ty CP Đầu tư XD và xuất nhập khẩu Phục Hưng': 1,\n",
       " 'Công ty TNHH Xây dựng và Thương mại Bình Vượng': 3,\n",
       " 'Công ty CP Thương mại và Dịch vụ Tổng hợp Vinh Hạnh': 2,\n",
       " 'Công ty TNHH Nhà nước một thành viên Thăng Long GTC': 1,\n",
       " 'Công ty CP Xây dựng Số 1': 2,\n",
       " 'Công ty CP Vinaconex 6': 1,\n",
       " 'Công ty CP Đầu tư và Xuất nhập khẩu Mỹ Sơn': 1,\n",
       " 'Tổng Công ty CP Đầu tư Xây dựng và Thương mại Việt Nam': 3,\n",
       " 'Công ty CP Đầu tư Xây lắp Dầu khí Việt Nam': 1,\n",
       " 'Công ty CP Đầu tư 135': 1,\n",
       " 'Công ty CP Him Lam': 1,\n",
       " 'Công ty CP Cơ khí Xây dựng Đại Mỗ - Coma 6': 1,\n",
       " 'Công ty CP SME Hoàng Gia': 1}"
      ]
     },
     "metadata": {},
     "execution_count": 108
    }
   ],
   "source": [
    "dict"
   ]
  },
  {
   "cell_type": "code",
   "execution_count": 109,
   "metadata": {},
   "outputs": [],
   "source": [
    "import json\n",
    "with open(\"ChuDauTu.json\", \"w\") as outfile:  \n",
    "    json.dump(dict, outfile) "
   ]
  },
  {
   "cell_type": "code",
   "execution_count": 8,
   "metadata": {},
   "outputs": [
    {
     "output_type": "execute_result",
     "data": {
      "text/plain": [
       "       Index                                             TieuDe  \\\n",
       "0          0   CHÍNH CHỦ  BÁN CĂN HỘ CHUNG CƯ ECO LAKE VIEW ...   \n",
       "1          1                 RUBY CT3 PHÚC LỢI CHỈ TỪ 930 TRIỆU   \n",
       "2          2   MỞ BÁN ĐỢT 1 TÒA DIAMOND, ĐÃ CÓ SỔ HỒNG, GIÁ ...   \n",
       "3          3   SUẤT NGOẠI GIAO TẦNG 18 - CĂN HỘ SỐ 6 - 3 PHÒ...   \n",
       "4          4   SUNSHINE CITY CIPUTRA TÂY HỒ, CK 450TR, ĐÓNG ...   \n",
       "...      ...                                                ...   \n",
       "11159  11159   Chính chủ bán căn 01 tòa S3 2PN 75m2 đủ đồ, c...   \n",
       "11160  11160   Mở bán DA Harmony Square Nguyễn Tuân từ 2,78 ...   \n",
       "11161  11161   Chính chủ bán căn 114m2, 3 PN, đủ nội thất tò...   \n",
       "11162  11162   Bán CHCC cao cấp Tràng An Complex, Cầu Giấy, ...   \n",
       "11163  11163   CC mặt đường Nguyễn Tuân chỉ 2.7 tỷ căn 2PN, ...   \n",
       "\n",
       "                                                     url  \\\n",
       "0      https://batdongsan.com.vn/ban-can-ho-chung-cu-...   \n",
       "1      https://batdongsan.com.vn/ban-can-ho-chung-cu-...   \n",
       "2      https://batdongsan.com.vn/ban-can-ho-chung-cu-...   \n",
       "3      https://batdongsan.com.vn/ban-can-ho-chung-cu-...   \n",
       "4      https://batdongsan.com.vn/ban-can-ho-chung-cu-...   \n",
       "...                                                  ...   \n",
       "11159  https://batdongsan.com.vn/ban-can-ho-chung-cu-...   \n",
       "11160  https://batdongsan.com.vn/ban-can-ho-chung-cu-...   \n",
       "11161  https://batdongsan.com.vn/ban-can-ho-chung-cu-...   \n",
       "11162  https://batdongsan.com.vn/ban-can-ho-chung-cu-...   \n",
       "11163  https://batdongsan.com.vn/ban-can-ho-chung-cu-...   \n",
       "\n",
       "                                                   ViTri         Quan  \\\n",
       "0      \\n        Eco Lake View, 32, Đường Đại Từ, Phư...    Hoàng Mai   \n",
       "1      \\n        Dự án Chung cư Ruby City CT3, Đường ...    Long Biên   \n",
       "2      \\n        Dự án Goldmark City, Đường Hồ Tùng M...  Bắc Từ Liêm   \n",
       "3      \\n        Dự án Berriver Long Biên, Long Biên,...    Long Biên   \n",
       "4      \\n        Dự án Sunshine City, Phường Đông Ngạ...  Bắc Từ Liêm   \n",
       "...                                                  ...          ...   \n",
       "11159  \\n        Dự án Goldmark City, Đường Hồ Tùng M...  Bắc Từ Liêm   \n",
       "11160  \\n        Dự án Chung cư DLC Complex, Thanh Xu...   Thanh Xuân   \n",
       "11161  \\n        Dự án Goldmark City, Đường Hồ Tùng M...  Bắc Từ Liêm   \n",
       "11162  \\n        Dự án Tràng An Complex, Cầu Giấy, Hà...     Cầu Giấy   \n",
       "11163  \\n        Dự án Chung cư DLC Complex, Đường Ng...   Thanh Xuân   \n",
       "\n",
       "            GiaTien  DienTich  SoPhongNgu  SoToilet  \\\n",
       "0      1.950000e+09      74.5           2         2   \n",
       "1      9.300000e+08      48.0           2         1   \n",
       "2      3.100000e+09     104.0           3         2   \n",
       "3      3.860000e+09     113.2           3         2   \n",
       "4      3.500000e+09     112.5           3         2   \n",
       "...             ...       ...         ...       ...   \n",
       "11159  2.250000e+09      75.0           2         2   \n",
       "11160  2.780000e+09      75.6           2         2   \n",
       "11161  3.000000e+09     114.0           3         2   \n",
       "11162  3.350000e+09      75.0           2         2   \n",
       "11163  2.800000e+09      76.0           2         2   \n",
       "\n",
       "                                                 HinhAnh  ... HuongBanCong  \\\n",
       "0      ['https://file4.batdongsan.com.vn/resize/745x5...  ...          Nam   \n",
       "1      ['https://file4.batdongsan.com.vn/resize/745x5...  ...          Nam   \n",
       "2      ['https://file4.batdongsan.com.vn/resize/745x5...  ...          Nam   \n",
       "3      ['https://file4.batdongsan.com.vn/resize/745x5...  ...     Đông-Nam   \n",
       "4      ['https://file4.batdongsan.com.vn/resize/745x5...  ...     Đông-Bắc   \n",
       "...                                                  ...  ...          ...   \n",
       "11159  ['https://file4.batdongsan.com.vn/resize/745x5...  ...      Tây-Bắc   \n",
       "11160  ['https://file4.batdongsan.com.vn/resize/745x5...  ...     Đông-Nam   \n",
       "11161  ['https://file4.batdongsan.com.vn/resize/745x5...  ...     Đông-Bắc   \n",
       "11162  ['https://file4.batdongsan.com.vn/resize/745x5...  ...          Bắc   \n",
       "11163  ['https://file4.batdongsan.com.vn/resize/745x5...  ...          Bắc   \n",
       "\n",
       "      NoiThat                                               MoTa ChuDauTu  \\\n",
       "0           1  \\n                604 HH3B - Eco Lake View 32 ...       45   \n",
       "1           1  \\n                Ruby city CT3 Phúc Lợi dự án...       35   \n",
       "2           1  \\n                Mở bán bảng hàng đợt 1 quỹ c...      255   \n",
       "3           0  \\n                Suất ngoại giao duy nhất - t...      161   \n",
       "4           0  \\n                Chúng tôi đang có sẵn rất nh...      372   \n",
       "...       ...                                                ...      ...   \n",
       "11159       1  \\n                - Diện tích: 75m2, tầng thấp...      255   \n",
       "11160       1  \\n                Bán căn hộ dự án Harmony Squ...        1   \n",
       "11161       1  \\n                Do chuyển cần tiền kinh doan...      255   \n",
       "11162       1  \\n                Gia đình tôi cần bán căn hộ ...       46   \n",
       "11163       0  \\n                Cần bán căn hộ trung tâm quậ...        1   \n",
       "\n",
       "                                                   QuyMo       ViDo  \\\n",
       "0      Gồm 2 toà tháp căn hộ HH1, HH2 32 tầng và 1 tò...  20.973093   \n",
       "1                Đơn nguyên A, B cao 22 tầng, 3 tầng hầm  21.036489   \n",
       "2      Gồm 4 tòa nhà chính: Ánh Sáng, Ruby, Sapphire,...  21.040337   \n",
       "3                             Gồm 5 toà tháp cao 22 tầng  21.044317   \n",
       "4                69 căn biệt thự liền kề và 1.791 căn hộ  21.091917   \n",
       "...                                                  ...        ...   \n",
       "11159  Gồm 4 tòa nhà chính: Ánh Sáng, Ruby, Sapphire,...  21.040337   \n",
       "11160                                                NaN  20.999903   \n",
       "11161  Gồm 4 tòa nhà chính: Ánh Sáng, Ruby, Sapphire,...  21.040337   \n",
       "11162  Gồm 1 tòa nhà hỗn hợp cao 14 tầng, 2 tòa chung...  21.044373   \n",
       "11163                                                NaN  20.999903   \n",
       "\n",
       "           KinhDo    NgayDang           LoaiTin   DienThoai  \n",
       "0      105.838371  16/11/2020  Tin Vip đặc biệt  0977633983  \n",
       "1      105.931900  16/11/2020  Tin Vip đặc biệt  0934488569  \n",
       "2      105.767586  15/11/2020  Tin Vip đặc biệt  0947928386  \n",
       "3      105.877861  14/11/2020  Tin Vip đặc biệt  0934033833  \n",
       "4      105.785004  13/11/2020  Tin Vip đặc biệt  0976491188  \n",
       "...           ...         ...               ...         ...  \n",
       "11159  105.767586  16/11/2020        Tin thường  0936198238  \n",
       "11160  105.802185  16/11/2020        Tin thường  0944820066  \n",
       "11161  105.767586  16/11/2020        Tin thường  0936198238  \n",
       "11162  105.803230  16/11/2020        Tin thường  0972999343  \n",
       "11163  105.802185  16/11/2020        Tin thường  0977980055  \n",
       "\n",
       "[11164 rows x 21 columns]"
      ],
      "text/html": "<div>\n<style scoped>\n    .dataframe tbody tr th:only-of-type {\n        vertical-align: middle;\n    }\n\n    .dataframe tbody tr th {\n        vertical-align: top;\n    }\n\n    .dataframe thead th {\n        text-align: right;\n    }\n</style>\n<table border=\"1\" class=\"dataframe\">\n  <thead>\n    <tr style=\"text-align: right;\">\n      <th></th>\n      <th>Index</th>\n      <th>TieuDe</th>\n      <th>url</th>\n      <th>ViTri</th>\n      <th>Quan</th>\n      <th>GiaTien</th>\n      <th>DienTich</th>\n      <th>SoPhongNgu</th>\n      <th>SoToilet</th>\n      <th>HinhAnh</th>\n      <th>...</th>\n      <th>HuongBanCong</th>\n      <th>NoiThat</th>\n      <th>MoTa</th>\n      <th>ChuDauTu</th>\n      <th>QuyMo</th>\n      <th>ViDo</th>\n      <th>KinhDo</th>\n      <th>NgayDang</th>\n      <th>LoaiTin</th>\n      <th>DienThoai</th>\n    </tr>\n  </thead>\n  <tbody>\n    <tr>\n      <th>0</th>\n      <td>0</td>\n      <td>CHÍNH CHỦ  BÁN CĂN HỘ CHUNG CƯ ECO LAKE VIEW ...</td>\n      <td>https://batdongsan.com.vn/ban-can-ho-chung-cu-...</td>\n      <td>\\n        Eco Lake View, 32, Đường Đại Từ, Phư...</td>\n      <td>Hoàng Mai</td>\n      <td>1.950000e+09</td>\n      <td>74.5</td>\n      <td>2</td>\n      <td>2</td>\n      <td>['https://file4.batdongsan.com.vn/resize/745x5...</td>\n      <td>...</td>\n      <td>Nam</td>\n      <td>1</td>\n      <td>\\n                604 HH3B - Eco Lake View 32 ...</td>\n      <td>45</td>\n      <td>Gồm 2 toà tháp căn hộ HH1, HH2 32 tầng và 1 tò...</td>\n      <td>20.973093</td>\n      <td>105.838371</td>\n      <td>16/11/2020</td>\n      <td>Tin Vip đặc biệt</td>\n      <td>0977633983</td>\n    </tr>\n    <tr>\n      <th>1</th>\n      <td>1</td>\n      <td>RUBY CT3 PHÚC LỢI CHỈ TỪ 930 TRIỆU</td>\n      <td>https://batdongsan.com.vn/ban-can-ho-chung-cu-...</td>\n      <td>\\n        Dự án Chung cư Ruby City CT3, Đường ...</td>\n      <td>Long Biên</td>\n      <td>9.300000e+08</td>\n      <td>48.0</td>\n      <td>2</td>\n      <td>1</td>\n      <td>['https://file4.batdongsan.com.vn/resize/745x5...</td>\n      <td>...</td>\n      <td>Nam</td>\n      <td>1</td>\n      <td>\\n                Ruby city CT3 Phúc Lợi dự án...</td>\n      <td>35</td>\n      <td>Đơn nguyên A, B cao 22 tầng, 3 tầng hầm</td>\n      <td>21.036489</td>\n      <td>105.931900</td>\n      <td>16/11/2020</td>\n      <td>Tin Vip đặc biệt</td>\n      <td>0934488569</td>\n    </tr>\n    <tr>\n      <th>2</th>\n      <td>2</td>\n      <td>MỞ BÁN ĐỢT 1 TÒA DIAMOND, ĐÃ CÓ SỔ HỒNG, GIÁ ...</td>\n      <td>https://batdongsan.com.vn/ban-can-ho-chung-cu-...</td>\n      <td>\\n        Dự án Goldmark City, Đường Hồ Tùng M...</td>\n      <td>Bắc Từ Liêm</td>\n      <td>3.100000e+09</td>\n      <td>104.0</td>\n      <td>3</td>\n      <td>2</td>\n      <td>['https://file4.batdongsan.com.vn/resize/745x5...</td>\n      <td>...</td>\n      <td>Nam</td>\n      <td>1</td>\n      <td>\\n                Mở bán bảng hàng đợt 1 quỹ c...</td>\n      <td>255</td>\n      <td>Gồm 4 tòa nhà chính: Ánh Sáng, Ruby, Sapphire,...</td>\n      <td>21.040337</td>\n      <td>105.767586</td>\n      <td>15/11/2020</td>\n      <td>Tin Vip đặc biệt</td>\n      <td>0947928386</td>\n    </tr>\n    <tr>\n      <th>3</th>\n      <td>3</td>\n      <td>SUẤT NGOẠI GIAO TẦNG 18 - CĂN HỘ SỐ 6 - 3 PHÒ...</td>\n      <td>https://batdongsan.com.vn/ban-can-ho-chung-cu-...</td>\n      <td>\\n        Dự án Berriver Long Biên, Long Biên,...</td>\n      <td>Long Biên</td>\n      <td>3.860000e+09</td>\n      <td>113.2</td>\n      <td>3</td>\n      <td>2</td>\n      <td>['https://file4.batdongsan.com.vn/resize/745x5...</td>\n      <td>...</td>\n      <td>Đông-Nam</td>\n      <td>0</td>\n      <td>\\n                Suất ngoại giao duy nhất - t...</td>\n      <td>161</td>\n      <td>Gồm 5 toà tháp cao 22 tầng</td>\n      <td>21.044317</td>\n      <td>105.877861</td>\n      <td>14/11/2020</td>\n      <td>Tin Vip đặc biệt</td>\n      <td>0934033833</td>\n    </tr>\n    <tr>\n      <th>4</th>\n      <td>4</td>\n      <td>SUNSHINE CITY CIPUTRA TÂY HỒ, CK 450TR, ĐÓNG ...</td>\n      <td>https://batdongsan.com.vn/ban-can-ho-chung-cu-...</td>\n      <td>\\n        Dự án Sunshine City, Phường Đông Ngạ...</td>\n      <td>Bắc Từ Liêm</td>\n      <td>3.500000e+09</td>\n      <td>112.5</td>\n      <td>3</td>\n      <td>2</td>\n      <td>['https://file4.batdongsan.com.vn/resize/745x5...</td>\n      <td>...</td>\n      <td>Đông-Bắc</td>\n      <td>0</td>\n      <td>\\n                Chúng tôi đang có sẵn rất nh...</td>\n      <td>372</td>\n      <td>69 căn biệt thự liền kề và 1.791 căn hộ</td>\n      <td>21.091917</td>\n      <td>105.785004</td>\n      <td>13/11/2020</td>\n      <td>Tin Vip đặc biệt</td>\n      <td>0976491188</td>\n    </tr>\n    <tr>\n      <th>...</th>\n      <td>...</td>\n      <td>...</td>\n      <td>...</td>\n      <td>...</td>\n      <td>...</td>\n      <td>...</td>\n      <td>...</td>\n      <td>...</td>\n      <td>...</td>\n      <td>...</td>\n      <td>...</td>\n      <td>...</td>\n      <td>...</td>\n      <td>...</td>\n      <td>...</td>\n      <td>...</td>\n      <td>...</td>\n      <td>...</td>\n      <td>...</td>\n      <td>...</td>\n      <td>...</td>\n    </tr>\n    <tr>\n      <th>11159</th>\n      <td>11159</td>\n      <td>Chính chủ bán căn 01 tòa S3 2PN 75m2 đủ đồ, c...</td>\n      <td>https://batdongsan.com.vn/ban-can-ho-chung-cu-...</td>\n      <td>\\n        Dự án Goldmark City, Đường Hồ Tùng M...</td>\n      <td>Bắc Từ Liêm</td>\n      <td>2.250000e+09</td>\n      <td>75.0</td>\n      <td>2</td>\n      <td>2</td>\n      <td>['https://file4.batdongsan.com.vn/resize/745x5...</td>\n      <td>...</td>\n      <td>Tây-Bắc</td>\n      <td>1</td>\n      <td>\\n                - Diện tích: 75m2, tầng thấp...</td>\n      <td>255</td>\n      <td>Gồm 4 tòa nhà chính: Ánh Sáng, Ruby, Sapphire,...</td>\n      <td>21.040337</td>\n      <td>105.767586</td>\n      <td>16/11/2020</td>\n      <td>Tin thường</td>\n      <td>0936198238</td>\n    </tr>\n    <tr>\n      <th>11160</th>\n      <td>11160</td>\n      <td>Mở bán DA Harmony Square Nguyễn Tuân từ 2,78 ...</td>\n      <td>https://batdongsan.com.vn/ban-can-ho-chung-cu-...</td>\n      <td>\\n        Dự án Chung cư DLC Complex, Thanh Xu...</td>\n      <td>Thanh Xuân</td>\n      <td>2.780000e+09</td>\n      <td>75.6</td>\n      <td>2</td>\n      <td>2</td>\n      <td>['https://file4.batdongsan.com.vn/resize/745x5...</td>\n      <td>...</td>\n      <td>Đông-Nam</td>\n      <td>1</td>\n      <td>\\n                Bán căn hộ dự án Harmony Squ...</td>\n      <td>1</td>\n      <td>NaN</td>\n      <td>20.999903</td>\n      <td>105.802185</td>\n      <td>16/11/2020</td>\n      <td>Tin thường</td>\n      <td>0944820066</td>\n    </tr>\n    <tr>\n      <th>11161</th>\n      <td>11161</td>\n      <td>Chính chủ bán căn 114m2, 3 PN, đủ nội thất tò...</td>\n      <td>https://batdongsan.com.vn/ban-can-ho-chung-cu-...</td>\n      <td>\\n        Dự án Goldmark City, Đường Hồ Tùng M...</td>\n      <td>Bắc Từ Liêm</td>\n      <td>3.000000e+09</td>\n      <td>114.0</td>\n      <td>3</td>\n      <td>2</td>\n      <td>['https://file4.batdongsan.com.vn/resize/745x5...</td>\n      <td>...</td>\n      <td>Đông-Bắc</td>\n      <td>1</td>\n      <td>\\n                Do chuyển cần tiền kinh doan...</td>\n      <td>255</td>\n      <td>Gồm 4 tòa nhà chính: Ánh Sáng, Ruby, Sapphire,...</td>\n      <td>21.040337</td>\n      <td>105.767586</td>\n      <td>16/11/2020</td>\n      <td>Tin thường</td>\n      <td>0936198238</td>\n    </tr>\n    <tr>\n      <th>11162</th>\n      <td>11162</td>\n      <td>Bán CHCC cao cấp Tràng An Complex, Cầu Giấy, ...</td>\n      <td>https://batdongsan.com.vn/ban-can-ho-chung-cu-...</td>\n      <td>\\n        Dự án Tràng An Complex, Cầu Giấy, Hà...</td>\n      <td>Cầu Giấy</td>\n      <td>3.350000e+09</td>\n      <td>75.0</td>\n      <td>2</td>\n      <td>2</td>\n      <td>['https://file4.batdongsan.com.vn/resize/745x5...</td>\n      <td>...</td>\n      <td>Bắc</td>\n      <td>1</td>\n      <td>\\n                Gia đình tôi cần bán căn hộ ...</td>\n      <td>46</td>\n      <td>Gồm 1 tòa nhà hỗn hợp cao 14 tầng, 2 tòa chung...</td>\n      <td>21.044373</td>\n      <td>105.803230</td>\n      <td>16/11/2020</td>\n      <td>Tin thường</td>\n      <td>0972999343</td>\n    </tr>\n    <tr>\n      <th>11163</th>\n      <td>11163</td>\n      <td>CC mặt đường Nguyễn Tuân chỉ 2.7 tỷ căn 2PN, ...</td>\n      <td>https://batdongsan.com.vn/ban-can-ho-chung-cu-...</td>\n      <td>\\n        Dự án Chung cư DLC Complex, Đường Ng...</td>\n      <td>Thanh Xuân</td>\n      <td>2.800000e+09</td>\n      <td>76.0</td>\n      <td>2</td>\n      <td>2</td>\n      <td>['https://file4.batdongsan.com.vn/resize/745x5...</td>\n      <td>...</td>\n      <td>Bắc</td>\n      <td>0</td>\n      <td>\\n                Cần bán căn hộ trung tâm quậ...</td>\n      <td>1</td>\n      <td>NaN</td>\n      <td>20.999903</td>\n      <td>105.802185</td>\n      <td>16/11/2020</td>\n      <td>Tin thường</td>\n      <td>0977980055</td>\n    </tr>\n  </tbody>\n</table>\n<p>11164 rows × 21 columns</p>\n</div>"
     },
     "metadata": {},
     "execution_count": 8
    }
   ],
   "source": [
    "data"
   ]
  },
  {
   "cell_type": "code",
   "execution_count": 9,
   "metadata": {},
   "outputs": [
    {
     "output_type": "execute_result",
     "data": {
      "text/plain": [
       "0             Bắc\n",
       "1             Bắc\n",
       "2             Bắc\n",
       "3         Tây-Nam\n",
       "4         Tây-Nam\n",
       "           ...   \n",
       "11159    Đông-Nam\n",
       "11160    Đông-Nam\n",
       "11161     Tây-Nam\n",
       "11162         Nam\n",
       "11163         Nam\n",
       "Name: HuongNha, Length: 11164, dtype: object"
      ]
     },
     "metadata": {},
     "execution_count": 9
    }
   ],
   "source": [
    "data['HuongNha']"
   ]
  },
  {
   "cell_type": "code",
   "execution_count": 10,
   "metadata": {},
   "outputs": [],
   "source": [
    "data.loc[(data['HuongNha'] == 'Đông'),'HuongNha'] = 1\n",
    "data.loc[(data['HuongNha'] == 'Tây') ,'HuongNha'] = 2\n",
    "data.loc[(data['HuongNha'] == 'Nam') ,'HuongNha'] = 3\n",
    "data.loc[(data['HuongNha'] == 'Bắc') ,'HuongNha'] = 4\n",
    "data.loc[(data['HuongNha'] == 'Đông-Bắc'),'HuongNha'] = 5\n",
    "data.loc[(data['HuongNha'] == 'Đông-Nam'),'HuongNha'] = 6\n",
    "data.loc[(data['HuongNha'] == 'Tây-Bắc') ,'HuongNha'] = 7\n",
    "data.loc[(data['HuongNha'] == 'Tây-Nam') ,'HuongNha'] = 8"
   ]
  },
  {
   "cell_type": "code",
   "execution_count": 11,
   "metadata": {},
   "outputs": [
    {
     "output_type": "execute_result",
     "data": {
      "text/plain": [
       "0        4\n",
       "1        4\n",
       "2        4\n",
       "3        8\n",
       "4        8\n",
       "        ..\n",
       "11159    6\n",
       "11160    6\n",
       "11161    8\n",
       "11162    3\n",
       "11163    3\n",
       "Name: HuongNha, Length: 11164, dtype: int32"
      ]
     },
     "metadata": {},
     "execution_count": 11
    }
   ],
   "source": [
    "data['HuongNha'].astype(int)"
   ]
  },
  {
   "cell_type": "code",
   "execution_count": 12,
   "metadata": {},
   "outputs": [],
   "source": [
    "data.loc[(data['HuongBanCong'] == 'Đông'),'HuongBanCong'] = 1\n",
    "data.loc[(data['HuongBanCong'] == 'Tây') ,'HuongBanCong'] = 2\n",
    "data.loc[(data['HuongBanCong'] == 'Nam') ,'HuongBanCong'] = 3\n",
    "data.loc[(data['HuongBanCong'] == 'Bắc') ,'HuongBanCong'] = 4\n",
    "data.loc[(data['HuongBanCong'] == 'Đông-Bắc'),'HuongBanCong'] = 5\n",
    "data.loc[(data['HuongBanCong'] == 'Đông-Nam'),'HuongBanCong'] = 6\n",
    "data.loc[(data['HuongBanCong'] == 'Tây-Bắc') ,'HuongBanCong'] = 7\n",
    "data.loc[(data['HuongBanCong'] == 'Tây-Nam') ,'HuongBanCong'] = 8"
   ]
  },
  {
   "cell_type": "code",
   "execution_count": 13,
   "metadata": {},
   "outputs": [
    {
     "output_type": "execute_result",
     "data": {
      "text/plain": [
       "0        3\n",
       "1        3\n",
       "2        3\n",
       "3        6\n",
       "4        5\n",
       "        ..\n",
       "11159    7\n",
       "11160    6\n",
       "11161    5\n",
       "11162    4\n",
       "11163    4\n",
       "Name: HuongBanCong, Length: 11164, dtype: int32"
      ]
     },
     "metadata": {},
     "execution_count": 13
    }
   ],
   "source": [
    "data['HuongBanCong'].astype(int)"
   ]
  },
  {
   "cell_type": "code",
   "execution_count": 14,
   "metadata": {},
   "outputs": [
    {
     "output_type": "execute_result",
     "data": {
      "text/plain": [
       "Tin thường          10662\n",
       "Tin Vip 3             299\n",
       "Tin Vip 1             104\n",
       "Tin Vip 2              69\n",
       "Tin Vip đặc biệt       30\n",
       "Name: LoaiTin, dtype: int64"
      ]
     },
     "metadata": {},
     "execution_count": 14
    }
   ],
   "source": [
    "data['LoaiTin'].value_counts()"
   ]
  },
  {
   "cell_type": "code",
   "execution_count": 15,
   "metadata": {},
   "outputs": [],
   "source": [
    "data.loc[data['LoaiTin'] == 'Tin thường','LoaiTin'] = 0\n",
    "data.loc[data['LoaiTin'] == 'Tin Vip 1','LoaiTin'] = 1\n",
    "data.loc[data['LoaiTin'] == 'Tin Vip 2','LoaiTin'] = 2\n",
    "data.loc[data['LoaiTin'] == 'Tin Vip 3','LoaiTin'] = 3\n",
    "data.loc[data['LoaiTin'] == 'Tin Vip đặc biệt','LoaiTin'] = 4"
   ]
  },
  {
   "cell_type": "code",
   "execution_count": 16,
   "metadata": {},
   "outputs": [
    {
     "output_type": "stream",
     "name": "stdout",
     "text": [
      "{'Hoàng Mai': 1086, 'Long Biên': 670, 'Bắc Từ Liêm': 1056, 'Nam Từ Liêm': 1513, 'Tây Hồ': 890, 'Gia Lâm': 380, 'Ba Đình': 270, 'Thanh Xuân': 1136, 'Cầu Giấy': 1090, 'Hai Bà Trưng': 845, 'Thanh Trì': 235, 'Hà Đông': 1351, 'Đống Đa': 354, 'Hoài Đức': 190, 'Hoàn Kiếm': 34, 'Đông Anh': 23, 'Chương Mỹ': 12, 'Đan Phượng': 28, 'Thanh Oai': 1}\n"
     ]
    }
   ],
   "source": [
    "dict = {}\n",
    "count = 0\n",
    "for Quan in data['Quan']:\n",
    "    if(Quan in dict) == False:\n",
    "        dict[Quan]=  1\n",
    "    else:\n",
    "        dict[Quan]= dict[Quan] + 1\n",
    "print(dict)"
   ]
  },
  {
   "cell_type": "code",
   "execution_count": 17,
   "metadata": {},
   "outputs": [],
   "source": [
    "for i in range(len(data['Quan'])):\n",
    "    for kiemTra in dict.keys():\n",
    "        if kiemTra == data['Quan'][i]:\n",
    "           data['Quan'][i] = dict[kiemTra]"
   ]
  },
  {
   "cell_type": "code",
   "execution_count": 18,
   "metadata": {},
   "outputs": [
    {
     "output_type": "execute_result",
     "data": {
      "text/plain": [
       "1513    1513\n",
       "1351    1351\n",
       "1136    1136\n",
       "1090    1090\n",
       "1086    1086\n",
       "1056    1056\n",
       "890      890\n",
       "845      845\n",
       "670      670\n",
       "380      380\n",
       "354      354\n",
       "270      270\n",
       "235      235\n",
       "190      190\n",
       "34        34\n",
       "28        28\n",
       "23        23\n",
       "12        12\n",
       "1          1\n",
       "Name: Quan, dtype: int64"
      ]
     },
     "metadata": {},
     "execution_count": 18
    }
   ],
   "source": [
    "data['Quan'].value_counts()"
   ]
  },
  {
   "cell_type": "code",
   "execution_count": 19,
   "metadata": {},
   "outputs": [
    {
     "output_type": "execute_result",
     "data": {
      "text/plain": [
       "0        1086\n",
       "1         670\n",
       "2        1056\n",
       "3         670\n",
       "4        1056\n",
       "         ... \n",
       "11159    1056\n",
       "11160    1136\n",
       "11161    1056\n",
       "11162    1090\n",
       "11163    1136\n",
       "Name: Quan, Length: 11164, dtype: int32"
      ]
     },
     "metadata": {},
     "execution_count": 19
    }
   ],
   "source": [
    "data['Quan'].astype(int)"
   ]
  },
  {
   "cell_type": "code",
   "execution_count": 100,
   "metadata": {},
   "outputs": [],
   "source": [
    "data.to_csv('data_model_20_11.csv')"
   ]
  },
  {
   "cell_type": "code",
   "execution_count": 2,
   "metadata": {},
   "outputs": [],
   "source": [
    "data = pd.read_csv('data_model_20_11.csv')"
   ]
  },
  {
   "cell_type": "code",
   "execution_count": 22,
   "metadata": {},
   "outputs": [],
   "source": [
    "attributes = list(['DienTich','SoPhongNgu','SoToilet','ChuDauTu','ViDo','KinhDo','LoaiTin','NoiThat','Quan','HuongNha','HuongBanCong'])\n",
    "X = data[attributes]"
   ]
  },
  {
   "cell_type": "code",
   "execution_count": 23,
   "metadata": {},
   "outputs": [],
   "source": [
    "y = data['GiaTien']"
   ]
  },
  {
   "cell_type": "code",
   "execution_count": 24,
   "metadata": {},
   "outputs": [],
   "source": [
    "from sklearn.model_selection import train_test_split\n",
    "\n",
    "X_train, X_test, y_train, y_test = train_test_split(X, y, test_size=0.3, random_state=0)"
   ]
  },
  {
   "cell_type": "code",
   "execution_count": 25,
   "metadata": {},
   "outputs": [],
   "source": [
    "from sklearn.ensemble import RandomForestRegressor\n",
    "\n",
    "regressor = RandomForestRegressor(n_estimators=50, random_state=0)\n",
    "regressor.fit(X_train, y_train)\n",
    "y_pred = regressor.predict(X_test)"
   ]
  },
  {
   "cell_type": "code",
   "execution_count": 26,
   "metadata": {},
   "outputs": [
    {
     "output_type": "execute_result",
     "data": {
      "text/plain": [
       "0.957578339487102"
      ]
     },
     "metadata": {},
     "execution_count": 26
    }
   ],
   "source": [
    "regressor.score(X_train,y_train)"
   ]
  },
  {
   "cell_type": "code",
   "execution_count": 27,
   "metadata": {},
   "outputs": [
    {
     "output_type": "execute_result",
     "data": {
      "text/plain": [
       "0.8451203892583391"
      ]
     },
     "metadata": {},
     "execution_count": 27
    }
   ],
   "source": [
    "regressor.score(X_test,y_test)"
   ]
  },
  {
   "cell_type": "code",
   "execution_count": 8,
   "metadata": {},
   "outputs": [
    {
     "output_type": "stream",
     "name": "stdout",
     "text": [
      "Mean Absolute Error: 313726342.1492199\nMean Squared Error: 7.006007229963583e+17\nR2 : 0.8463360748594568\nRoot Mean Squared Error: 837018950.2014624\n"
     ]
    }
   ],
   "source": [
    "from sklearn import metrics\n",
    "\n",
    "print('Mean Absolute Error:', metrics.mean_absolute_error(y_test, y_pred))\n",
    "print('Mean Squared Error:', metrics.mean_squared_error(y_test, y_pred))\n",
    "print('R2 :', metrics.r2_score(y_test, y_pred))\n",
    "print('Root Mean Squared Error:', np.sqrt(metrics.mean_squared_error(y_test, y_pred)))"
   ]
  },
  {
   "cell_type": "code",
   "execution_count": 128,
   "metadata": {},
   "outputs": [
    {
     "output_type": "execute_result",
     "data": {
      "text/plain": [
       "550000000.0"
      ]
     },
     "metadata": {},
     "execution_count": 128
    }
   ],
   "source": [
    "y_test[4965]"
   ]
  },
  {
   "cell_type": "code",
   "execution_count": 122,
   "metadata": {},
   "outputs": [],
   "source": [
    "df_poly = pd.DataFrame({'Actual': y_test, 'Predicted': y_pred})"
   ]
  },
  {
   "cell_type": "code",
   "execution_count": 132,
   "metadata": {},
   "outputs": [
    {
     "output_type": "execute_result",
     "data": {
      "text/plain": [
       "            Actual     Predicted\n",
       "1308   225000000.0  2.210763e+09\n",
       "6563   550000000.0  6.603600e+08\n",
       "4965   550000000.0  5.750800e+08\n",
       "528      2800000.0  3.017112e+09\n",
       "10491  550000000.0  7.328600e+08\n",
       "1242   530000000.0  1.172440e+09\n",
       "8148   520000000.0  6.224000e+08\n",
       "5963   500000000.0  1.080300e+09\n",
       "10860  545000000.0  5.477200e+08\n",
       "1283   599000000.0  9.826000e+08\n",
       "5140   430000000.0  8.120800e+08\n",
       "8986   580000000.0  7.214800e+08\n",
       "4912   590000000.0  8.626000e+08\n",
       "5975   550000000.0  1.457820e+09\n",
       "10480  550000000.0  6.599000e+08\n",
       "1282   550000000.0  7.004400e+08\n",
       "1332   550000000.0  7.436000e+08\n",
       "5073   530000000.0  5.231200e+08\n",
       "1687    20000000.0  2.123000e+09\n",
       "7170   550000000.0  8.890000e+08"
      ],
      "text/html": "<div>\n<style scoped>\n    .dataframe tbody tr th:only-of-type {\n        vertical-align: middle;\n    }\n\n    .dataframe tbody tr th {\n        vertical-align: top;\n    }\n\n    .dataframe thead th {\n        text-align: right;\n    }\n</style>\n<table border=\"1\" class=\"dataframe\">\n  <thead>\n    <tr style=\"text-align: right;\">\n      <th></th>\n      <th>Actual</th>\n      <th>Predicted</th>\n    </tr>\n  </thead>\n  <tbody>\n    <tr>\n      <th>1308</th>\n      <td>225000000.0</td>\n      <td>2.210763e+09</td>\n    </tr>\n    <tr>\n      <th>6563</th>\n      <td>550000000.0</td>\n      <td>6.603600e+08</td>\n    </tr>\n    <tr>\n      <th>4965</th>\n      <td>550000000.0</td>\n      <td>5.750800e+08</td>\n    </tr>\n    <tr>\n      <th>528</th>\n      <td>2800000.0</td>\n      <td>3.017112e+09</td>\n    </tr>\n    <tr>\n      <th>10491</th>\n      <td>550000000.0</td>\n      <td>7.328600e+08</td>\n    </tr>\n    <tr>\n      <th>1242</th>\n      <td>530000000.0</td>\n      <td>1.172440e+09</td>\n    </tr>\n    <tr>\n      <th>8148</th>\n      <td>520000000.0</td>\n      <td>6.224000e+08</td>\n    </tr>\n    <tr>\n      <th>5963</th>\n      <td>500000000.0</td>\n      <td>1.080300e+09</td>\n    </tr>\n    <tr>\n      <th>10860</th>\n      <td>545000000.0</td>\n      <td>5.477200e+08</td>\n    </tr>\n    <tr>\n      <th>1283</th>\n      <td>599000000.0</td>\n      <td>9.826000e+08</td>\n    </tr>\n    <tr>\n      <th>5140</th>\n      <td>430000000.0</td>\n      <td>8.120800e+08</td>\n    </tr>\n    <tr>\n      <th>8986</th>\n      <td>580000000.0</td>\n      <td>7.214800e+08</td>\n    </tr>\n    <tr>\n      <th>4912</th>\n      <td>590000000.0</td>\n      <td>8.626000e+08</td>\n    </tr>\n    <tr>\n      <th>5975</th>\n      <td>550000000.0</td>\n      <td>1.457820e+09</td>\n    </tr>\n    <tr>\n      <th>10480</th>\n      <td>550000000.0</td>\n      <td>6.599000e+08</td>\n    </tr>\n    <tr>\n      <th>1282</th>\n      <td>550000000.0</td>\n      <td>7.004400e+08</td>\n    </tr>\n    <tr>\n      <th>1332</th>\n      <td>550000000.0</td>\n      <td>7.436000e+08</td>\n    </tr>\n    <tr>\n      <th>5073</th>\n      <td>530000000.0</td>\n      <td>5.231200e+08</td>\n    </tr>\n    <tr>\n      <th>1687</th>\n      <td>20000000.0</td>\n      <td>2.123000e+09</td>\n    </tr>\n    <tr>\n      <th>7170</th>\n      <td>550000000.0</td>\n      <td>8.890000e+08</td>\n    </tr>\n  </tbody>\n</table>\n</div>"
     },
     "metadata": {},
     "execution_count": 132
    }
   ],
   "source": [
    "df_poly[df_poly['Actual']<6e8]"
   ]
  },
  {
   "cell_type": "code",
   "execution_count": 120,
   "metadata": {},
   "outputs": [
    {
     "output_type": "execute_result",
     "data": {
      "text/plain": [
       "array([5.71016667e+09, 2.26552000e+09, 3.41978579e+09, ...,\n",
       "       2.01314000e+09, 5.99886667e+09, 4.88700000e+09])"
      ]
     },
     "metadata": {},
     "execution_count": 120
    }
   ],
   "source": [
    "y_pred"
   ]
  },
  {
   "cell_type": "code",
   "execution_count": 48,
   "metadata": {},
   "outputs": [],
   "source": [
    "import pickle\n",
    "\n",
    "pickle.dump(regressor, open('random_forest_model.pkl', 'wb'))"
   ]
  },
  {
   "cell_type": "code",
   "execution_count": 53,
   "metadata": {},
   "outputs": [],
   "source": [
    "model = pickle.load(open('random_forest_model.pkl','rb'))"
   ]
  },
  {
   "cell_type": "code",
   "execution_count": 54,
   "metadata": {},
   "outputs": [
    {
     "output_type": "execute_result",
     "data": {
      "text/plain": [
       "RandomForestRegressor(n_estimators=50, random_state=0)"
      ]
     },
     "metadata": {},
     "execution_count": 54
    }
   ],
   "source": [
    "model"
   ]
  },
  {
   "cell_type": "code",
   "execution_count": 72,
   "metadata": {},
   "outputs": [],
   "source": [
    "X_test_1= X_test[1:2]"
   ]
  },
  {
   "cell_type": "code",
   "execution_count": 73,
   "metadata": {},
   "outputs": [
    {
     "output_type": "execute_result",
     "data": {
      "text/plain": [
       "      DienTich  SoPhongNgu  SoToilet  ChuDauTu       ViDo      KinhDo  \\\n",
       "8761      92.0           3         2         1  21.040976  105.913666   \n",
       "\n",
       "      NoiThat LoaiTin Quan HuongNha HuongBanCong  \n",
       "8761        1       0  670        5            8  "
      ],
      "text/html": "<div>\n<style scoped>\n    .dataframe tbody tr th:only-of-type {\n        vertical-align: middle;\n    }\n\n    .dataframe tbody tr th {\n        vertical-align: top;\n    }\n\n    .dataframe thead th {\n        text-align: right;\n    }\n</style>\n<table border=\"1\" class=\"dataframe\">\n  <thead>\n    <tr style=\"text-align: right;\">\n      <th></th>\n      <th>DienTich</th>\n      <th>SoPhongNgu</th>\n      <th>SoToilet</th>\n      <th>ChuDauTu</th>\n      <th>ViDo</th>\n      <th>KinhDo</th>\n      <th>NoiThat</th>\n      <th>LoaiTin</th>\n      <th>Quan</th>\n      <th>HuongNha</th>\n      <th>HuongBanCong</th>\n    </tr>\n  </thead>\n  <tbody>\n    <tr>\n      <th>8761</th>\n      <td>92.0</td>\n      <td>3</td>\n      <td>2</td>\n      <td>1</td>\n      <td>21.040976</td>\n      <td>105.913666</td>\n      <td>1</td>\n      <td>0</td>\n      <td>670</td>\n      <td>5</td>\n      <td>8</td>\n    </tr>\n  </tbody>\n</table>\n</div>"
     },
     "metadata": {},
     "execution_count": 73
    }
   ],
   "source": [
    "X_test_1"
   ]
  },
  {
   "cell_type": "code",
   "execution_count": 114,
   "metadata": {},
   "outputs": [
    {
     "output_type": "execute_result",
     "data": {
      "text/plain": [
       "252.93389466141167"
      ]
     },
     "metadata": {},
     "execution_count": 114
    }
   ],
   "source": [
    "data['ChuDauTu'].mean()"
   ]
  },
  {
   "cell_type": "code",
   "execution_count": 95,
   "metadata": {},
   "outputs": [],
   "source": [
    "X_test_2 = [90,2,2,0,0,0,0,0,0,0,0]"
   ]
  },
  {
   "cell_type": "code",
   "execution_count": 96,
   "metadata": {},
   "outputs": [],
   "source": [
    "X_test_2 = np.array(X_test_2)"
   ]
  },
  {
   "cell_type": "code",
   "execution_count": 97,
   "metadata": {},
   "outputs": [],
   "source": [
    "X_test_2 = X_test_2.reshape(1,-1)"
   ]
  },
  {
   "cell_type": "code",
   "execution_count": 98,
   "metadata": {},
   "outputs": [
    {
     "output_type": "stream",
     "name": "stdout",
     "text": [
      "[1.50799524e+09]\n"
     ]
    }
   ],
   "source": [
    "print(model.predict(X_test_2))"
   ]
  },
  {
   "cell_type": "code",
   "execution_count": 116,
   "metadata": {},
   "outputs": [
    {
     "output_type": "execute_result",
     "data": {
      "text/plain": [
       "       Index                                             TieuDe  \\\n",
       "285      285   Bán CHCC Hoàng Hoa Thám, DT 25m2, tầng 5, để ...   \n",
       "366      366   Chung cư Thái Hà - Yên Lãng, studio, 1PN - 3P...   \n",
       "425      425   (Chính thức) chung cư Tôn Đức Thắng - Đoàn Th...   \n",
       "463      463   Bán chung cư Đỗ Nhuận, Xuân Đỉnh CV Hòa Bình ...   \n",
       "494      494   CC Lộc Ninh Singashine ra bảng hàng ưu đãi mớ...   \n",
       "...      ...                                                ...   \n",
       "11072  11072   Bán căn hộ chung cư đường Tây Tựu, Phường Tây...   \n",
       "11098  11098   Chính chủ cần bán nhà địa chỉ: Tầng 9 CT 10A ...   \n",
       "11108  11108   Cần bán nhà 63 ngõ 175 Thịnh Quang, Đường Thị...   \n",
       "11144  11144   Cần bán CH 306 nhà B6 ngõ 12 Thạch Bàn, Long ...   \n",
       "11152  11152   Bán chung cư mini thoáng mát tại Ngã Tư Sở, T...   \n",
       "\n",
       "                                                     url  \\\n",
       "285    https://batdongsan.com.vn/ban-can-ho-chung-cu-...   \n",
       "366    https://batdongsan.com.vn/ban-can-ho-chung-cu-...   \n",
       "425    https://batdongsan.com.vn/ban-can-ho-chung-cu-...   \n",
       "463    https://batdongsan.com.vn/ban-can-ho-chung-cu-...   \n",
       "494    https://batdongsan.com.vn/ban-can-ho-chung-cu-...   \n",
       "...                                                  ...   \n",
       "11072  https://batdongsan.com.vn/ban-can-ho-chung-cu-...   \n",
       "11098  https://batdongsan.com.vn/ban-can-ho-chung-cu-...   \n",
       "11108  https://batdongsan.com.vn/ban-can-ho-chung-cu-...   \n",
       "11144  https://batdongsan.com.vn/ban-can-ho-chung-cu-...   \n",
       "11152  https://batdongsan.com.vn/ban-can-ho-chung-cu-...   \n",
       "\n",
       "                                                   ViTri         Quan  \\\n",
       "285    \\n        Đường Hoàng Hoa Thám, Ba Đình, Hà Nộ...      Ba Đình   \n",
       "366    \\n        Phố Thái Hà, Phường Trung Liệt, Đốn...      Đống Đa   \n",
       "425    \\n        Phố Tôn Đức Thắng, Phường Hàng Bột...      Đống Đa   \n",
       "463    \\n        Phố Đỗ Nhuận, Phường Xuân Đỉnh, Bắc ...  Bắc Từ Liêm   \n",
       "494    \\n        Dự án Lộc Ninh Singashine, Đường Quố...    Chương Mỹ   \n",
       "...                                                  ...          ...   \n",
       "11072  \\n        Đường Tây Tựu, Phường Tây Tựu, Bắc T...  Bắc Từ Liêm   \n",
       "11098  \\n        Dự án Chung cư Đại Thanh, Đường Phan...    Thanh Trì   \n",
       "11108  \\n        63 ngõ 175, Đường Thịnh Quang, Phườn...      Đống Đa   \n",
       "11144  \\n        B6 ngõ 12, Đường Thạch Bàn, Long Biê...    Long Biên   \n",
       "11152  \\n        124/24, Đường Khương Trung, Phường K...   Thanh Xuân   \n",
       "\n",
       "           GiaTien  DienTich  SoPhongNgu  SoToilet  \\\n",
       "285    500000000.0     25.00           1         1   \n",
       "366    550000000.0     35.00           1         1   \n",
       "425    520000000.0     35.00           1         1   \n",
       "463    600000000.0     34.00           1         1   \n",
       "494    606000000.0     50.00           2         1   \n",
       "...            ...       ...         ...       ...   \n",
       "11072  370000000.0     35.70           1         1   \n",
       "11098  420000000.0     36.00           1         1   \n",
       "11108  520000000.0     25.00           1         1   \n",
       "11144  680000000.0     43.97           1         1   \n",
       "11152  650000000.0     30.00           1         1   \n",
       "\n",
       "                                                 HinhAnh  ... HuongBanCong  \\\n",
       "285                                                   []  ...     Đông-Nam   \n",
       "366    ['https://file4.batdongsan.com.vn/resize/745x5...  ...      Tây-Nam   \n",
       "425    ['https://file4.batdongsan.com.vn/resize/745x5...  ...      Tây-Nam   \n",
       "463    ['https://file4.batdongsan.com.vn/resize/745x5...  ...      Tây-Nam   \n",
       "494    ['https://file4.batdongsan.com.vn/resize/745x5...  ...     Đông-Bắc   \n",
       "...                                                  ...  ...          ...   \n",
       "11072                                                 []  ...     Đông-Nam   \n",
       "11098                                                 []  ...          Nam   \n",
       "11108                                                 []  ...     Đông-Nam   \n",
       "11144                                                 []  ...      Tây-Nam   \n",
       "11152                                                 []  ...     Đông-Nam   \n",
       "\n",
       "      NoiThat                                               MoTa ChuDauTu  \\\n",
       "285         1  \\n                Bán chung cư mini ngõ 515 Ho...        1   \n",
       "366         1  \\n                Chung cư Thái Hà - Yên Lãng,...        1   \n",
       "425         1  \\n                * Chủ đầu tư trực tiếp bán c...        1   \n",
       "463         1  \\n                Chủ đầu tư bán chung cư Xuân...        1   \n",
       "494         1  \\n                Mua nhà thời điểm này, lựa c...       11   \n",
       "...       ...                                                ...      ...   \n",
       "11072       1  \\n                Bán căn hộ chung cư đường Tâ...        1   \n",
       "11098       2  \\n                Chính chủ cần bán nhà địa ch...       90   \n",
       "11108       1  \\n                Cần bán căn hộ chung cư mini...        1   \n",
       "11144       0  \\n                Mình chính chủ cần bán căn h...        1   \n",
       "11152       1  \\n                Căn hộ rộng 30m2, 1 phòng kh...        1   \n",
       "\n",
       "                                                   QuyMo       ViDo  \\\n",
       "285                                                  NaN  21.041918   \n",
       "366                                                  NaN  21.012597   \n",
       "425                                                  NaN  21.026742   \n",
       "463                                                  NaN  21.065785   \n",
       "494              Gồm 2 tòa tháp cao 19 tầng, 01 tầng hầm  20.926460   \n",
       "...                                                  ...        ...   \n",
       "11072                                                NaN  21.069103   \n",
       "11098  Dự án gồm 6 tòa chung cư CT8 (A, B, C) & CT10 ...  20.957575   \n",
       "11108                                                NaN  21.008365   \n",
       "11144                                                NaN  21.021670   \n",
       "11152                                                NaN  21.028949   \n",
       "\n",
       "           KinhDo    NgayDang     LoaiTin   DienThoai  \n",
       "285    105.820961  13/11/2020   Tin Vip 3  0914675545  \n",
       "366    105.820109  12/11/2020   Tin Vip 3  0785658886  \n",
       "425    105.833814  11/11/2020   Tin Vip 3  0816791988  \n",
       "463    105.791750  10/11/2020   Tin Vip 3  0913255538  \n",
       "494    105.712830  03/11/2020   Tin Vip 3  0828418888  \n",
       "...           ...         ...         ...         ...  \n",
       "11072  105.728850  22/09/2020  Tin thường  0973872587  \n",
       "11098  105.806900  26/08/2020  Tin thường  0926026982  \n",
       "11108  105.818022  07/08/2020  Tin thường  0943469210  \n",
       "11144  105.914179  25/06/2020  Tin thường  0366899724  \n",
       "11152  105.852447  16/06/2020  Tin thường  0395275532  \n",
       "\n",
       "[166 rows x 21 columns]"
      ],
      "text/html": "<div>\n<style scoped>\n    .dataframe tbody tr th:only-of-type {\n        vertical-align: middle;\n    }\n\n    .dataframe tbody tr th {\n        vertical-align: top;\n    }\n\n    .dataframe thead th {\n        text-align: right;\n    }\n</style>\n<table border=\"1\" class=\"dataframe\">\n  <thead>\n    <tr style=\"text-align: right;\">\n      <th></th>\n      <th>Index</th>\n      <th>TieuDe</th>\n      <th>url</th>\n      <th>ViTri</th>\n      <th>Quan</th>\n      <th>GiaTien</th>\n      <th>DienTich</th>\n      <th>SoPhongNgu</th>\n      <th>SoToilet</th>\n      <th>HinhAnh</th>\n      <th>...</th>\n      <th>HuongBanCong</th>\n      <th>NoiThat</th>\n      <th>MoTa</th>\n      <th>ChuDauTu</th>\n      <th>QuyMo</th>\n      <th>ViDo</th>\n      <th>KinhDo</th>\n      <th>NgayDang</th>\n      <th>LoaiTin</th>\n      <th>DienThoai</th>\n    </tr>\n  </thead>\n  <tbody>\n    <tr>\n      <th>285</th>\n      <td>285</td>\n      <td>Bán CHCC Hoàng Hoa Thám, DT 25m2, tầng 5, để ...</td>\n      <td>https://batdongsan.com.vn/ban-can-ho-chung-cu-...</td>\n      <td>\\n        Đường Hoàng Hoa Thám, Ba Đình, Hà Nộ...</td>\n      <td>Ba Đình</td>\n      <td>500000000.0</td>\n      <td>25.00</td>\n      <td>1</td>\n      <td>1</td>\n      <td>[]</td>\n      <td>...</td>\n      <td>Đông-Nam</td>\n      <td>1</td>\n      <td>\\n                Bán chung cư mini ngõ 515 Ho...</td>\n      <td>1</td>\n      <td>NaN</td>\n      <td>21.041918</td>\n      <td>105.820961</td>\n      <td>13/11/2020</td>\n      <td>Tin Vip 3</td>\n      <td>0914675545</td>\n    </tr>\n    <tr>\n      <th>366</th>\n      <td>366</td>\n      <td>Chung cư Thái Hà - Yên Lãng, studio, 1PN - 3P...</td>\n      <td>https://batdongsan.com.vn/ban-can-ho-chung-cu-...</td>\n      <td>\\n        Phố Thái Hà, Phường Trung Liệt, Đốn...</td>\n      <td>Đống Đa</td>\n      <td>550000000.0</td>\n      <td>35.00</td>\n      <td>1</td>\n      <td>1</td>\n      <td>['https://file4.batdongsan.com.vn/resize/745x5...</td>\n      <td>...</td>\n      <td>Tây-Nam</td>\n      <td>1</td>\n      <td>\\n                Chung cư Thái Hà - Yên Lãng,...</td>\n      <td>1</td>\n      <td>NaN</td>\n      <td>21.012597</td>\n      <td>105.820109</td>\n      <td>12/11/2020</td>\n      <td>Tin Vip 3</td>\n      <td>0785658886</td>\n    </tr>\n    <tr>\n      <th>425</th>\n      <td>425</td>\n      <td>(Chính thức) chung cư Tôn Đức Thắng - Đoàn Th...</td>\n      <td>https://batdongsan.com.vn/ban-can-ho-chung-cu-...</td>\n      <td>\\n        Phố Tôn Đức Thắng, Phường Hàng Bột...</td>\n      <td>Đống Đa</td>\n      <td>520000000.0</td>\n      <td>35.00</td>\n      <td>1</td>\n      <td>1</td>\n      <td>['https://file4.batdongsan.com.vn/resize/745x5...</td>\n      <td>...</td>\n      <td>Tây-Nam</td>\n      <td>1</td>\n      <td>\\n                * Chủ đầu tư trực tiếp bán c...</td>\n      <td>1</td>\n      <td>NaN</td>\n      <td>21.026742</td>\n      <td>105.833814</td>\n      <td>11/11/2020</td>\n      <td>Tin Vip 3</td>\n      <td>0816791988</td>\n    </tr>\n    <tr>\n      <th>463</th>\n      <td>463</td>\n      <td>Bán chung cư Đỗ Nhuận, Xuân Đỉnh CV Hòa Bình ...</td>\n      <td>https://batdongsan.com.vn/ban-can-ho-chung-cu-...</td>\n      <td>\\n        Phố Đỗ Nhuận, Phường Xuân Đỉnh, Bắc ...</td>\n      <td>Bắc Từ Liêm</td>\n      <td>600000000.0</td>\n      <td>34.00</td>\n      <td>1</td>\n      <td>1</td>\n      <td>['https://file4.batdongsan.com.vn/resize/745x5...</td>\n      <td>...</td>\n      <td>Tây-Nam</td>\n      <td>1</td>\n      <td>\\n                Chủ đầu tư bán chung cư Xuân...</td>\n      <td>1</td>\n      <td>NaN</td>\n      <td>21.065785</td>\n      <td>105.791750</td>\n      <td>10/11/2020</td>\n      <td>Tin Vip 3</td>\n      <td>0913255538</td>\n    </tr>\n    <tr>\n      <th>494</th>\n      <td>494</td>\n      <td>CC Lộc Ninh Singashine ra bảng hàng ưu đãi mớ...</td>\n      <td>https://batdongsan.com.vn/ban-can-ho-chung-cu-...</td>\n      <td>\\n        Dự án Lộc Ninh Singashine, Đường Quố...</td>\n      <td>Chương Mỹ</td>\n      <td>606000000.0</td>\n      <td>50.00</td>\n      <td>2</td>\n      <td>1</td>\n      <td>['https://file4.batdongsan.com.vn/resize/745x5...</td>\n      <td>...</td>\n      <td>Đông-Bắc</td>\n      <td>1</td>\n      <td>\\n                Mua nhà thời điểm này, lựa c...</td>\n      <td>11</td>\n      <td>Gồm 2 tòa tháp cao 19 tầng, 01 tầng hầm</td>\n      <td>20.926460</td>\n      <td>105.712830</td>\n      <td>03/11/2020</td>\n      <td>Tin Vip 3</td>\n      <td>0828418888</td>\n    </tr>\n    <tr>\n      <th>...</th>\n      <td>...</td>\n      <td>...</td>\n      <td>...</td>\n      <td>...</td>\n      <td>...</td>\n      <td>...</td>\n      <td>...</td>\n      <td>...</td>\n      <td>...</td>\n      <td>...</td>\n      <td>...</td>\n      <td>...</td>\n      <td>...</td>\n      <td>...</td>\n      <td>...</td>\n      <td>...</td>\n      <td>...</td>\n      <td>...</td>\n      <td>...</td>\n      <td>...</td>\n      <td>...</td>\n    </tr>\n    <tr>\n      <th>11072</th>\n      <td>11072</td>\n      <td>Bán căn hộ chung cư đường Tây Tựu, Phường Tây...</td>\n      <td>https://batdongsan.com.vn/ban-can-ho-chung-cu-...</td>\n      <td>\\n        Đường Tây Tựu, Phường Tây Tựu, Bắc T...</td>\n      <td>Bắc Từ Liêm</td>\n      <td>370000000.0</td>\n      <td>35.70</td>\n      <td>1</td>\n      <td>1</td>\n      <td>[]</td>\n      <td>...</td>\n      <td>Đông-Nam</td>\n      <td>1</td>\n      <td>\\n                Bán căn hộ chung cư đường Tâ...</td>\n      <td>1</td>\n      <td>NaN</td>\n      <td>21.069103</td>\n      <td>105.728850</td>\n      <td>22/09/2020</td>\n      <td>Tin thường</td>\n      <td>0973872587</td>\n    </tr>\n    <tr>\n      <th>11098</th>\n      <td>11098</td>\n      <td>Chính chủ cần bán nhà địa chỉ: Tầng 9 CT 10A ...</td>\n      <td>https://batdongsan.com.vn/ban-can-ho-chung-cu-...</td>\n      <td>\\n        Dự án Chung cư Đại Thanh, Đường Phan...</td>\n      <td>Thanh Trì</td>\n      <td>420000000.0</td>\n      <td>36.00</td>\n      <td>1</td>\n      <td>1</td>\n      <td>[]</td>\n      <td>...</td>\n      <td>Nam</td>\n      <td>2</td>\n      <td>\\n                Chính chủ cần bán nhà địa ch...</td>\n      <td>90</td>\n      <td>Dự án gồm 6 tòa chung cư CT8 (A, B, C) &amp; CT10 ...</td>\n      <td>20.957575</td>\n      <td>105.806900</td>\n      <td>26/08/2020</td>\n      <td>Tin thường</td>\n      <td>0926026982</td>\n    </tr>\n    <tr>\n      <th>11108</th>\n      <td>11108</td>\n      <td>Cần bán nhà 63 ngõ 175 Thịnh Quang, Đường Thị...</td>\n      <td>https://batdongsan.com.vn/ban-can-ho-chung-cu-...</td>\n      <td>\\n        63 ngõ 175, Đường Thịnh Quang, Phườn...</td>\n      <td>Đống Đa</td>\n      <td>520000000.0</td>\n      <td>25.00</td>\n      <td>1</td>\n      <td>1</td>\n      <td>[]</td>\n      <td>...</td>\n      <td>Đông-Nam</td>\n      <td>1</td>\n      <td>\\n                Cần bán căn hộ chung cư mini...</td>\n      <td>1</td>\n      <td>NaN</td>\n      <td>21.008365</td>\n      <td>105.818022</td>\n      <td>07/08/2020</td>\n      <td>Tin thường</td>\n      <td>0943469210</td>\n    </tr>\n    <tr>\n      <th>11144</th>\n      <td>11144</td>\n      <td>Cần bán CH 306 nhà B6 ngõ 12 Thạch Bàn, Long ...</td>\n      <td>https://batdongsan.com.vn/ban-can-ho-chung-cu-...</td>\n      <td>\\n        B6 ngõ 12, Đường Thạch Bàn, Long Biê...</td>\n      <td>Long Biên</td>\n      <td>680000000.0</td>\n      <td>43.97</td>\n      <td>1</td>\n      <td>1</td>\n      <td>[]</td>\n      <td>...</td>\n      <td>Tây-Nam</td>\n      <td>0</td>\n      <td>\\n                Mình chính chủ cần bán căn h...</td>\n      <td>1</td>\n      <td>NaN</td>\n      <td>21.021670</td>\n      <td>105.914179</td>\n      <td>25/06/2020</td>\n      <td>Tin thường</td>\n      <td>0366899724</td>\n    </tr>\n    <tr>\n      <th>11152</th>\n      <td>11152</td>\n      <td>Bán chung cư mini thoáng mát tại Ngã Tư Sở, T...</td>\n      <td>https://batdongsan.com.vn/ban-can-ho-chung-cu-...</td>\n      <td>\\n        124/24, Đường Khương Trung, Phường K...</td>\n      <td>Thanh Xuân</td>\n      <td>650000000.0</td>\n      <td>30.00</td>\n      <td>1</td>\n      <td>1</td>\n      <td>[]</td>\n      <td>...</td>\n      <td>Đông-Nam</td>\n      <td>1</td>\n      <td>\\n                Căn hộ rộng 30m2, 1 phòng kh...</td>\n      <td>1</td>\n      <td>NaN</td>\n      <td>21.028949</td>\n      <td>105.852447</td>\n      <td>16/06/2020</td>\n      <td>Tin thường</td>\n      <td>0395275532</td>\n    </tr>\n  </tbody>\n</table>\n<p>166 rows × 21 columns</p>\n</div>"
     },
     "metadata": {},
     "execution_count": 116
    }
   ],
   "source": [
    "data[data['GiaTien'] < 7e8]"
   ]
  },
  {
   "cell_type": "code",
   "execution_count": null,
   "metadata": {},
   "outputs": [],
   "source": []
  }
 ]
}