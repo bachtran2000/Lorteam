{
 "metadata": {
  "language_info": {
   "codemirror_mode": {
    "name": "ipython",
    "version": 3
   },
   "file_extension": ".py",
   "mimetype": "text/x-python",
   "name": "python",
   "nbconvert_exporter": "python",
   "pygments_lexer": "ipython3",
   "version": "3.8.5-final"
  },
  "orig_nbformat": 2,
  "kernelspec": {
   "name": "Python 3.8.5 64-bit",
   "display_name": "Python 3.8.5 64-bit",
   "metadata": {
    "interpreter": {
     "hash": "2db524e06e9f5f4ffedc911c917cb75e12dbc923643829bf417064a77eb14d37"
    }
   }
  }
 },
 "nbformat": 4,
 "nbformat_minor": 2,
 "cells": [
  {
   "cell_type": "code",
   "execution_count": 4,
   "metadata": {},
   "outputs": [],
   "source": [
    "import pandas as pd \n",
    "import numpy as np \n",
    "import seaborn as sns \n",
    "import matplotlib.pyplot as plt "
   ]
  },
  {
   "cell_type": "code",
   "execution_count": 12,
   "metadata": {},
   "outputs": [
    {
     "output_type": "execute_result",
     "data": {
      "text/plain": [
       "    543  \\\n",
       "0  1678   \n",
       "1  2348   \n",
       "2  3304   \n",
       "3  5515   \n",
       "4  6189   \n",
       "\n",
       "  \\n        Dự án 108 Nguyễn Trãi, Đường Nguyễn Trãi, Phường Thượng Đình, Thanh Xuân, Hà Nội\\n      \\\n",
       "0  \\n        Dự án M5 Nguyễn Chí Thanh, Đường Ngu...                                                 \n",
       "1  \\n        M5 Nguyễn Chí Thanh, số 91, Đường Ng...                                                 \n",
       "2  \\n        M5 Nguyễn Chí Thanh, số 91, Đường Ng...                                                 \n",
       "3  \\n        Dự án 108 Nguyễn Trãi, Đường Nguyễn ...                                                 \n",
       "4  \\n        Dự án M5 Nguyễn Chí Thanh, Đường Ngu...                                                 \n",
       "\n",
       "   5500000000    126  3  3.1  \\\n",
       "0  4000000000  149.0  3    2   \n",
       "1  4500000000  149.0  3    3   \n",
       "2  3700000000  133.0  3    2   \n",
       "3  3800000000   95.0  2    1   \n",
       "4  4000000000  133.0  3    2   \n",
       "\n",
       "   Công ty TNHH Một thành viên quản lý và phát triển nhà Hà Nội  \\\n",
       "0   Công ty TNHH Một thành viên quản lý và phát t...              \n",
       "1   Công ty TNHH Một thành viên quản lý và phát t...              \n",
       "2   Công ty TNHH Một thành viên quản lý và phát t...              \n",
       "3   Công ty TNHH Một thành viên quản lý và phát t...              \n",
       "4   Công ty TNHH Một thành viên quản lý và phát t...              \n",
       "\n",
       "  Gồm 33 căn liền kề, biệt thự và 1 tổ hợp văn phòng, chung cư Unnamed: 8  \\\n",
       "0                            31 tầng nổi, 5 tầng hầm                  NaN   \n",
       "1                            31 tầng nổi, 5 tầng hầm                  NaN   \n",
       "2                            31 tầng nổi, 5 tầng hầm                  NaN   \n",
       "3  Gồm 33 căn liền kề, biệt thự và 1 tổ hợp văn p...                  NaN   \n",
       "4                            31 tầng nổi, 5 tầng hầm                  NaN   \n",
       "\n",
       "  Unnamed: 9  \n",
       "0        NaN  \n",
       "1        NaN  \n",
       "2        NaN  \n",
       "3        NaN  \n",
       "4        NaN  "
      ],
      "text/html": "<div>\n<style scoped>\n    .dataframe tbody tr th:only-of-type {\n        vertical-align: middle;\n    }\n\n    .dataframe tbody tr th {\n        vertical-align: top;\n    }\n\n    .dataframe thead th {\n        text-align: right;\n    }\n</style>\n<table border=\"1\" class=\"dataframe\">\n  <thead>\n    <tr style=\"text-align: right;\">\n      <th></th>\n      <th>543</th>\n      <th>\\n        Dự án 108 Nguyễn Trãi, Đường Nguyễn Trãi, Phường Thượng Đình, Thanh Xuân, Hà Nội\\n</th>\n      <th>5500000000</th>\n      <th>126</th>\n      <th>3</th>\n      <th>3.1</th>\n      <th>Công ty TNHH Một thành viên quản lý và phát triển nhà Hà Nội</th>\n      <th>Gồm 33 căn liền kề, biệt thự và 1 tổ hợp văn phòng, chung cư</th>\n      <th>Unnamed: 8</th>\n      <th>Unnamed: 9</th>\n    </tr>\n  </thead>\n  <tbody>\n    <tr>\n      <th>0</th>\n      <td>1678</td>\n      <td>\\n        Dự án M5 Nguyễn Chí Thanh, Đường Ngu...</td>\n      <td>4000000000</td>\n      <td>149.0</td>\n      <td>3</td>\n      <td>2</td>\n      <td>Công ty TNHH Một thành viên quản lý và phát t...</td>\n      <td>31 tầng nổi, 5 tầng hầm</td>\n      <td>NaN</td>\n      <td>NaN</td>\n    </tr>\n    <tr>\n      <th>1</th>\n      <td>2348</td>\n      <td>\\n        M5 Nguyễn Chí Thanh, số 91, Đường Ng...</td>\n      <td>4500000000</td>\n      <td>149.0</td>\n      <td>3</td>\n      <td>3</td>\n      <td>Công ty TNHH Một thành viên quản lý và phát t...</td>\n      <td>31 tầng nổi, 5 tầng hầm</td>\n      <td>NaN</td>\n      <td>NaN</td>\n    </tr>\n    <tr>\n      <th>2</th>\n      <td>3304</td>\n      <td>\\n        M5 Nguyễn Chí Thanh, số 91, Đường Ng...</td>\n      <td>3700000000</td>\n      <td>133.0</td>\n      <td>3</td>\n      <td>2</td>\n      <td>Công ty TNHH Một thành viên quản lý và phát t...</td>\n      <td>31 tầng nổi, 5 tầng hầm</td>\n      <td>NaN</td>\n      <td>NaN</td>\n    </tr>\n    <tr>\n      <th>3</th>\n      <td>5515</td>\n      <td>\\n        Dự án 108 Nguyễn Trãi, Đường Nguyễn ...</td>\n      <td>3800000000</td>\n      <td>95.0</td>\n      <td>2</td>\n      <td>1</td>\n      <td>Công ty TNHH Một thành viên quản lý và phát t...</td>\n      <td>Gồm 33 căn liền kề, biệt thự và 1 tổ hợp văn p...</td>\n      <td>NaN</td>\n      <td>NaN</td>\n    </tr>\n    <tr>\n      <th>4</th>\n      <td>6189</td>\n      <td>\\n        Dự án M5 Nguyễn Chí Thanh, Đường Ngu...</td>\n      <td>4000000000</td>\n      <td>133.0</td>\n      <td>3</td>\n      <td>2</td>\n      <td>Công ty TNHH Một thành viên quản lý và phát t...</td>\n      <td>31 tầng nổi, 5 tầng hầm</td>\n      <td>NaN</td>\n      <td>NaN</td>\n    </tr>\n  </tbody>\n</table>\n</div>"
     },
     "metadata": {},
     "execution_count": 12
    }
   ],
   "source": [
    "data = pd.read_csv(\"clean17.csv\")\n",
    "data.head()"
   ]
  },
  {
   "cell_type": "code",
   "execution_count": 13,
   "metadata": {},
   "outputs": [],
   "source": [
    "X_before = data.values"
   ]
  },
  {
   "cell_type": "code",
   "execution_count": 14,
   "metadata": {},
   "outputs": [],
   "source": [
    "X = X_before[:,3:6]\n",
    "y = X_before[:,2]"
   ]
  },
  {
   "cell_type": "code",
   "execution_count": 15,
   "metadata": {},
   "outputs": [],
   "source": [
    "dict = {}\n",
    "count = 0\n",
    "for nhaDauTu in X_before[:,6]:\n",
    "    dict[nhaDauTu]= count\n",
    "    count+=1"
   ]
  },
  {
   "cell_type": "code",
   "execution_count": 16,
   "metadata": {},
   "outputs": [
    {
     "output_type": "stream",
     "name": "stdout",
     "text": [
      "[5 5 5 ... 8040 8040 8040]\n"
     ]
    }
   ],
   "source": [
    "for i in range(len(X_before[:,6])):\n",
    "    for kiemTra in dict.keys():\n",
    "        if kiemTra == X_before[i,6]:\n",
    "            X_before[i,6] = dict[kiemTra]\n",
    "print(X_before[:,6])"
   ]
  },
  {
   "cell_type": "code",
   "execution_count": 17,
   "metadata": {},
   "outputs": [
    {
     "output_type": "execute_result",
     "data": {
      "text/plain": [
       "array([5, 5, 5, ..., 8040, 8040, 8040], dtype=object)"
      ]
     },
     "metadata": {},
     "execution_count": 17
    }
   ],
   "source": [
    "x_extend = X_before[:,6]\n",
    "x_extend"
   ]
  },
  {
   "cell_type": "code",
   "execution_count": 18,
   "metadata": {},
   "outputs": [],
   "source": [
    "X = np.column_stack((X, x_extend))"
   ]
  },
  {
   "cell_type": "code",
   "execution_count": 19,
   "metadata": {},
   "outputs": [],
   "source": [
    "X = np.nan_to_num(X)\n"
   ]
  },
  {
   "cell_type": "code",
   "execution_count": 21,
   "metadata": {},
   "outputs": [],
   "source": [
    "from sklearn.model_selection import train_test_split\n",
    "X_train, X_test, y_train, y_test = train_test_split(X, y, test_size=0.3, random_state=30)"
   ]
  },
  {
   "cell_type": "code",
   "execution_count": 22,
   "metadata": {},
   "outputs": [],
   "source": [
    "from sklearn import linear_model\n",
    "linear = linear_model.LinearRegression()"
   ]
  },
  {
   "cell_type": "code",
   "execution_count": 23,
   "metadata": {},
   "outputs": [
    {
     "output_type": "execute_result",
     "data": {
      "text/plain": [
       "LinearRegression()"
      ]
     },
     "metadata": {},
     "execution_count": 23
    }
   ],
   "source": [
    "linear.fit(X_train,y_train)"
   ]
  },
  {
   "cell_type": "code",
   "execution_count": 24,
   "metadata": {},
   "outputs": [
    {
     "output_type": "execute_result",
     "data": {
      "text/plain": [
       "0.4895929443106576"
      ]
     },
     "metadata": {},
     "execution_count": 24
    }
   ],
   "source": [
    "linear.score(X_test,y_test)"
   ]
  },
  {
   "cell_type": "code",
   "execution_count": 25,
   "metadata": {},
   "outputs": [
    {
     "output_type": "execute_result",
     "data": {
      "text/plain": [
       "array([ 5.26451662e+07, -4.19733686e+08,  3.13962294e+08,  7.59237406e+04])"
      ]
     },
     "metadata": {},
     "execution_count": 25
    }
   ],
   "source": [
    "linear.coef_"
   ]
  },
  {
   "cell_type": "code",
   "execution_count": 26,
   "metadata": {},
   "outputs": [],
   "source": [
    "y_pred = linear.predict(X_test)"
   ]
  },
  {
   "cell_type": "code",
   "execution_count": 27,
   "metadata": {},
   "outputs": [],
   "source": [
    "df = pd.DataFrame({'Actual': y_test, 'Predicted': y_pred})"
   ]
  },
  {
   "cell_type": "code",
   "execution_count": 28,
   "metadata": {},
   "outputs": [
    {
     "output_type": "execute_result",
     "data": {
      "text/plain": [
       "          Actual     Predicted\n",
       "0     2700000000  3.086381e+09\n",
       "1     2600000000  2.567526e+09\n",
       "2     1850000000  1.856897e+09\n",
       "3     3000000000  3.236119e+09\n",
       "4     2860000000  2.747925e+09\n",
       "...          ...           ...\n",
       "2408  2250000000  2.499087e+09\n",
       "2409  4100000000  3.386550e+09\n",
       "2410  3550000000  3.816644e+09\n",
       "2411  2450000000  3.025539e+09\n",
       "2412  2600000000  1.748689e+09\n",
       "\n",
       "[2413 rows x 2 columns]"
      ],
      "text/html": "<div>\n<style scoped>\n    .dataframe tbody tr th:only-of-type {\n        vertical-align: middle;\n    }\n\n    .dataframe tbody tr th {\n        vertical-align: top;\n    }\n\n    .dataframe thead th {\n        text-align: right;\n    }\n</style>\n<table border=\"1\" class=\"dataframe\">\n  <thead>\n    <tr style=\"text-align: right;\">\n      <th></th>\n      <th>Actual</th>\n      <th>Predicted</th>\n    </tr>\n  </thead>\n  <tbody>\n    <tr>\n      <th>0</th>\n      <td>2700000000</td>\n      <td>3.086381e+09</td>\n    </tr>\n    <tr>\n      <th>1</th>\n      <td>2600000000</td>\n      <td>2.567526e+09</td>\n    </tr>\n    <tr>\n      <th>2</th>\n      <td>1850000000</td>\n      <td>1.856897e+09</td>\n    </tr>\n    <tr>\n      <th>3</th>\n      <td>3000000000</td>\n      <td>3.236119e+09</td>\n    </tr>\n    <tr>\n      <th>4</th>\n      <td>2860000000</td>\n      <td>2.747925e+09</td>\n    </tr>\n    <tr>\n      <th>...</th>\n      <td>...</td>\n      <td>...</td>\n    </tr>\n    <tr>\n      <th>2408</th>\n      <td>2250000000</td>\n      <td>2.499087e+09</td>\n    </tr>\n    <tr>\n      <th>2409</th>\n      <td>4100000000</td>\n      <td>3.386550e+09</td>\n    </tr>\n    <tr>\n      <th>2410</th>\n      <td>3550000000</td>\n      <td>3.816644e+09</td>\n    </tr>\n    <tr>\n      <th>2411</th>\n      <td>2450000000</td>\n      <td>3.025539e+09</td>\n    </tr>\n    <tr>\n      <th>2412</th>\n      <td>2600000000</td>\n      <td>1.748689e+09</td>\n    </tr>\n  </tbody>\n</table>\n<p>2413 rows × 2 columns</p>\n</div>"
     },
     "metadata": {},
     "execution_count": 28
    }
   ],
   "source": [
    "df"
   ]
  },
  {
   "cell_type": "code",
   "execution_count": 29,
   "metadata": {},
   "outputs": [
    {
     "output_type": "display_data",
     "data": {
      "text/plain": "<Figure size 1080x504 with 1 Axes>",
      "image/svg+xml": "<?xml version=\"1.0\" encoding=\"utf-8\" standalone=\"no\"?>\r\n<!DOCTYPE svg PUBLIC \"-//W3C//DTD SVG 1.1//EN\"\r\n  \"http://www.w3.org/Graphics/SVG/1.1/DTD/svg11.dtd\">\r\n<!-- Created with matplotlib (https://matplotlib.org/) -->\r\n<svg height=\"434.874687pt\" version=\"1.1\" viewBox=\"0 0 887.98125 434.874687\" width=\"887.98125pt\" xmlns=\"http://www.w3.org/2000/svg\" xmlns:xlink=\"http://www.w3.org/1999/xlink\">\r\n <metadata>\r\n  <rdf:RDF xmlns:cc=\"http://creativecommons.org/ns#\" xmlns:dc=\"http://purl.org/dc/elements/1.1/\" xmlns:rdf=\"http://www.w3.org/1999/02/22-rdf-syntax-ns#\">\r\n   <cc:Work>\r\n    <dc:type rdf:resource=\"http://purl.org/dc/dcmitype/StillImage\"/>\r\n    <dc:date>2020-10-23T03:26:21.624448</dc:date>\r\n    <dc:format>image/svg+xml</dc:format>\r\n    <dc:creator>\r\n     <cc:Agent>\r\n      <dc:title>Matplotlib v3.3.2, https://matplotlib.org/</dc:title>\r\n     </cc:Agent>\r\n    </dc:creator>\r\n   </cc:Work>\r\n  </rdf:RDF>\r\n </metadata>\r\n <defs>\r\n  <style type=\"text/css\">*{stroke-linecap:butt;stroke-linejoin:round;}</style>\r\n </defs>\r\n <g id=\"figure_1\">\r\n  <g id=\"patch_1\">\r\n   <path d=\"M 0 434.874687 \r\nL 887.98125 434.874687 \r\nL 887.98125 0 \r\nL 0 0 \r\nz\r\n\" style=\"fill:none;\"/>\r\n  </g>\r\n  <g id=\"axes_1\">\r\n   <g id=\"patch_2\">\r\n    <path d=\"M 43.78125 398.318437 \r\nL 880.78125 398.318437 \r\nL 880.78125 17.798437 \r\nL 43.78125 17.798437 \r\nz\r\n\" style=\"fill:#ffffff;\"/>\r\n   </g>\r\n   <g id=\"matplotlib.axis_1\">\r\n    <g id=\"xtick_1\">\r\n     <g id=\"line2d_1\">\r\n      <defs>\r\n       <path d=\"M 0 0 \r\nL 0 3.5 \r\n\" id=\"m1572e621f9\" style=\"stroke:#000000;stroke-width:0.8;\"/>\r\n      </defs>\r\n      <g>\r\n       <use style=\"stroke:#000000;stroke-width:0.8;\" x=\"115.873612\" xlink:href=\"#m1572e621f9\" y=\"398.318437\"/>\r\n      </g>\r\n     </g>\r\n     <g id=\"text_1\">\r\n      <!-- 0.0 -->\r\n      <g transform=\"translate(107.922049 412.916875)scale(0.1 -0.1)\">\r\n       <defs>\r\n        <path d=\"M 31.78125 66.40625 \r\nQ 24.171875 66.40625 20.328125 58.90625 \r\nQ 16.5 51.421875 16.5 36.375 \r\nQ 16.5 21.390625 20.328125 13.890625 \r\nQ 24.171875 6.390625 31.78125 6.390625 \r\nQ 39.453125 6.390625 43.28125 13.890625 \r\nQ 47.125 21.390625 47.125 36.375 \r\nQ 47.125 51.421875 43.28125 58.90625 \r\nQ 39.453125 66.40625 31.78125 66.40625 \r\nz\r\nM 31.78125 74.21875 \r\nQ 44.046875 74.21875 50.515625 64.515625 \r\nQ 56.984375 54.828125 56.984375 36.375 \r\nQ 56.984375 17.96875 50.515625 8.265625 \r\nQ 44.046875 -1.421875 31.78125 -1.421875 \r\nQ 19.53125 -1.421875 13.0625 8.265625 \r\nQ 6.59375 17.96875 6.59375 36.375 \r\nQ 6.59375 54.828125 13.0625 64.515625 \r\nQ 19.53125 74.21875 31.78125 74.21875 \r\nz\r\n\" id=\"DejaVuSans-48\"/>\r\n        <path d=\"M 10.6875 12.40625 \r\nL 21 12.40625 \r\nL 21 0 \r\nL 10.6875 0 \r\nz\r\n\" id=\"DejaVuSans-46\"/>\r\n       </defs>\r\n       <use xlink:href=\"#DejaVuSans-48\"/>\r\n       <use x=\"63.623047\" xlink:href=\"#DejaVuSans-46\"/>\r\n       <use x=\"95.410156\" xlink:href=\"#DejaVuSans-48\"/>\r\n      </g>\r\n     </g>\r\n    </g>\r\n    <g id=\"xtick_2\">\r\n     <g id=\"line2d_2\">\r\n      <g>\r\n       <use style=\"stroke:#000000;stroke-width:0.8;\" x=\"246.518539\" xlink:href=\"#m1572e621f9\" y=\"398.318437\"/>\r\n      </g>\r\n     </g>\r\n     <g id=\"text_2\">\r\n      <!-- 0.5 -->\r\n      <g transform=\"translate(238.566977 412.916875)scale(0.1 -0.1)\">\r\n       <defs>\r\n        <path d=\"M 10.796875 72.90625 \r\nL 49.515625 72.90625 \r\nL 49.515625 64.59375 \r\nL 19.828125 64.59375 \r\nL 19.828125 46.734375 \r\nQ 21.96875 47.46875 24.109375 47.828125 \r\nQ 26.265625 48.1875 28.421875 48.1875 \r\nQ 40.625 48.1875 47.75 41.5 \r\nQ 54.890625 34.8125 54.890625 23.390625 \r\nQ 54.890625 11.625 47.5625 5.09375 \r\nQ 40.234375 -1.421875 26.90625 -1.421875 \r\nQ 22.3125 -1.421875 17.546875 -0.640625 \r\nQ 12.796875 0.140625 7.71875 1.703125 \r\nL 7.71875 11.625 \r\nQ 12.109375 9.234375 16.796875 8.0625 \r\nQ 21.484375 6.890625 26.703125 6.890625 \r\nQ 35.15625 6.890625 40.078125 11.328125 \r\nQ 45.015625 15.765625 45.015625 23.390625 \r\nQ 45.015625 31 40.078125 35.4375 \r\nQ 35.15625 39.890625 26.703125 39.890625 \r\nQ 22.75 39.890625 18.8125 39.015625 \r\nQ 14.890625 38.140625 10.796875 36.28125 \r\nz\r\n\" id=\"DejaVuSans-53\"/>\r\n       </defs>\r\n       <use xlink:href=\"#DejaVuSans-48\"/>\r\n       <use x=\"63.623047\" xlink:href=\"#DejaVuSans-46\"/>\r\n       <use x=\"95.410156\" xlink:href=\"#DejaVuSans-53\"/>\r\n      </g>\r\n     </g>\r\n    </g>\r\n    <g id=\"xtick_3\">\r\n     <g id=\"line2d_3\">\r\n      <g>\r\n       <use style=\"stroke:#000000;stroke-width:0.8;\" x=\"377.163467\" xlink:href=\"#m1572e621f9\" y=\"398.318437\"/>\r\n      </g>\r\n     </g>\r\n     <g id=\"text_3\">\r\n      <!-- 1.0 -->\r\n      <g transform=\"translate(369.211904 412.916875)scale(0.1 -0.1)\">\r\n       <defs>\r\n        <path d=\"M 12.40625 8.296875 \r\nL 28.515625 8.296875 \r\nL 28.515625 63.921875 \r\nL 10.984375 60.40625 \r\nL 10.984375 69.390625 \r\nL 28.421875 72.90625 \r\nL 38.28125 72.90625 \r\nL 38.28125 8.296875 \r\nL 54.390625 8.296875 \r\nL 54.390625 0 \r\nL 12.40625 0 \r\nz\r\n\" id=\"DejaVuSans-49\"/>\r\n       </defs>\r\n       <use xlink:href=\"#DejaVuSans-49\"/>\r\n       <use x=\"63.623047\" xlink:href=\"#DejaVuSans-46\"/>\r\n       <use x=\"95.410156\" xlink:href=\"#DejaVuSans-48\"/>\r\n      </g>\r\n     </g>\r\n    </g>\r\n    <g id=\"xtick_4\">\r\n     <g id=\"line2d_4\">\r\n      <g>\r\n       <use style=\"stroke:#000000;stroke-width:0.8;\" x=\"507.808394\" xlink:href=\"#m1572e621f9\" y=\"398.318437\"/>\r\n      </g>\r\n     </g>\r\n     <g id=\"text_4\">\r\n      <!-- 1.5 -->\r\n      <g transform=\"translate(499.856832 412.916875)scale(0.1 -0.1)\">\r\n       <use xlink:href=\"#DejaVuSans-49\"/>\r\n       <use x=\"63.623047\" xlink:href=\"#DejaVuSans-46\"/>\r\n       <use x=\"95.410156\" xlink:href=\"#DejaVuSans-53\"/>\r\n      </g>\r\n     </g>\r\n    </g>\r\n    <g id=\"xtick_5\">\r\n     <g id=\"line2d_5\">\r\n      <g>\r\n       <use style=\"stroke:#000000;stroke-width:0.8;\" x=\"638.453322\" xlink:href=\"#m1572e621f9\" y=\"398.318437\"/>\r\n      </g>\r\n     </g>\r\n     <g id=\"text_5\">\r\n      <!-- 2.0 -->\r\n      <g transform=\"translate(630.501759 412.916875)scale(0.1 -0.1)\">\r\n       <defs>\r\n        <path d=\"M 19.1875 8.296875 \r\nL 53.609375 8.296875 \r\nL 53.609375 0 \r\nL 7.328125 0 \r\nL 7.328125 8.296875 \r\nQ 12.9375 14.109375 22.625 23.890625 \r\nQ 32.328125 33.6875 34.8125 36.53125 \r\nQ 39.546875 41.84375 41.421875 45.53125 \r\nQ 43.3125 49.21875 43.3125 52.78125 \r\nQ 43.3125 58.59375 39.234375 62.25 \r\nQ 35.15625 65.921875 28.609375 65.921875 \r\nQ 23.96875 65.921875 18.8125 64.3125 \r\nQ 13.671875 62.703125 7.8125 59.421875 \r\nL 7.8125 69.390625 \r\nQ 13.765625 71.78125 18.9375 73 \r\nQ 24.125 74.21875 28.421875 74.21875 \r\nQ 39.75 74.21875 46.484375 68.546875 \r\nQ 53.21875 62.890625 53.21875 53.421875 \r\nQ 53.21875 48.921875 51.53125 44.890625 \r\nQ 49.859375 40.875 45.40625 35.40625 \r\nQ 44.1875 33.984375 37.640625 27.21875 \r\nQ 31.109375 20.453125 19.1875 8.296875 \r\nz\r\n\" id=\"DejaVuSans-50\"/>\r\n       </defs>\r\n       <use xlink:href=\"#DejaVuSans-50\"/>\r\n       <use x=\"63.623047\" xlink:href=\"#DejaVuSans-46\"/>\r\n       <use x=\"95.410156\" xlink:href=\"#DejaVuSans-48\"/>\r\n      </g>\r\n     </g>\r\n    </g>\r\n    <g id=\"xtick_6\">\r\n     <g id=\"line2d_6\">\r\n      <g>\r\n       <use style=\"stroke:#000000;stroke-width:0.8;\" x=\"769.098249\" xlink:href=\"#m1572e621f9\" y=\"398.318437\"/>\r\n      </g>\r\n     </g>\r\n     <g id=\"text_6\">\r\n      <!-- 2.5 -->\r\n      <g transform=\"translate(761.146687 412.916875)scale(0.1 -0.1)\">\r\n       <use xlink:href=\"#DejaVuSans-50\"/>\r\n       <use x=\"63.623047\" xlink:href=\"#DejaVuSans-46\"/>\r\n       <use x=\"95.410156\" xlink:href=\"#DejaVuSans-53\"/>\r\n      </g>\r\n     </g>\r\n    </g>\r\n    <g id=\"text_7\">\r\n     <!-- 1e10 -->\r\n     <g transform=\"translate(855.540625 425.595)scale(0.1 -0.1)\">\r\n      <defs>\r\n       <path d=\"M 56.203125 29.59375 \r\nL 56.203125 25.203125 \r\nL 14.890625 25.203125 \r\nQ 15.484375 15.921875 20.484375 11.0625 \r\nQ 25.484375 6.203125 34.421875 6.203125 \r\nQ 39.59375 6.203125 44.453125 7.46875 \r\nQ 49.3125 8.734375 54.109375 11.28125 \r\nL 54.109375 2.78125 \r\nQ 49.265625 0.734375 44.1875 -0.34375 \r\nQ 39.109375 -1.421875 33.890625 -1.421875 \r\nQ 20.796875 -1.421875 13.15625 6.1875 \r\nQ 5.515625 13.8125 5.515625 26.8125 \r\nQ 5.515625 40.234375 12.765625 48.109375 \r\nQ 20.015625 56 32.328125 56 \r\nQ 43.359375 56 49.78125 48.890625 \r\nQ 56.203125 41.796875 56.203125 29.59375 \r\nz\r\nM 47.21875 32.234375 \r\nQ 47.125 39.59375 43.09375 43.984375 \r\nQ 39.0625 48.390625 32.421875 48.390625 \r\nQ 24.90625 48.390625 20.390625 44.140625 \r\nQ 15.875 39.890625 15.1875 32.171875 \r\nz\r\n\" id=\"DejaVuSans-101\"/>\r\n      </defs>\r\n      <use xlink:href=\"#DejaVuSans-49\"/>\r\n      <use x=\"63.623047\" xlink:href=\"#DejaVuSans-101\"/>\r\n      <use x=\"125.146484\" xlink:href=\"#DejaVuSans-49\"/>\r\n      <use x=\"188.769531\" xlink:href=\"#DejaVuSans-48\"/>\r\n     </g>\r\n    </g>\r\n   </g>\r\n   <g id=\"matplotlib.axis_2\">\r\n    <g id=\"ytick_1\">\r\n     <g id=\"line2d_7\">\r\n      <defs>\r\n       <path d=\"M 0 0 \r\nL -3.5 0 \r\n\" id=\"m8745abbea2\" style=\"stroke:#000000;stroke-width:0.8;\"/>\r\n      </defs>\r\n      <g>\r\n       <use style=\"stroke:#000000;stroke-width:0.8;\" x=\"43.78125\" xlink:href=\"#m8745abbea2\" y=\"398.318437\"/>\r\n      </g>\r\n     </g>\r\n     <g id=\"text_8\">\r\n      <!-- 0.0 -->\r\n      <g transform=\"translate(20.878125 402.117656)scale(0.1 -0.1)\">\r\n       <use xlink:href=\"#DejaVuSans-48\"/>\r\n       <use x=\"63.623047\" xlink:href=\"#DejaVuSans-46\"/>\r\n       <use x=\"95.410156\" xlink:href=\"#DejaVuSans-48\"/>\r\n      </g>\r\n     </g>\r\n    </g>\r\n    <g id=\"ytick_2\">\r\n     <g id=\"line2d_8\">\r\n      <g>\r\n       <use style=\"stroke:#000000;stroke-width:0.8;\" x=\"43.78125\" xlink:href=\"#m8745abbea2\" y=\"346.288079\"/>\r\n      </g>\r\n     </g>\r\n     <g id=\"text_9\">\r\n      <!-- 0.5 -->\r\n      <g transform=\"translate(20.878125 350.087297)scale(0.1 -0.1)\">\r\n       <use xlink:href=\"#DejaVuSans-48\"/>\r\n       <use x=\"63.623047\" xlink:href=\"#DejaVuSans-46\"/>\r\n       <use x=\"95.410156\" xlink:href=\"#DejaVuSans-53\"/>\r\n      </g>\r\n     </g>\r\n    </g>\r\n    <g id=\"ytick_3\">\r\n     <g id=\"line2d_9\">\r\n      <g>\r\n       <use style=\"stroke:#000000;stroke-width:0.8;\" x=\"43.78125\" xlink:href=\"#m8745abbea2\" y=\"294.25772\"/>\r\n      </g>\r\n     </g>\r\n     <g id=\"text_10\">\r\n      <!-- 1.0 -->\r\n      <g transform=\"translate(20.878125 298.056939)scale(0.1 -0.1)\">\r\n       <use xlink:href=\"#DejaVuSans-49\"/>\r\n       <use x=\"63.623047\" xlink:href=\"#DejaVuSans-46\"/>\r\n       <use x=\"95.410156\" xlink:href=\"#DejaVuSans-48\"/>\r\n      </g>\r\n     </g>\r\n    </g>\r\n    <g id=\"ytick_4\">\r\n     <g id=\"line2d_10\">\r\n      <g>\r\n       <use style=\"stroke:#000000;stroke-width:0.8;\" x=\"43.78125\" xlink:href=\"#m8745abbea2\" y=\"242.227361\"/>\r\n      </g>\r\n     </g>\r\n     <g id=\"text_11\">\r\n      <!-- 1.5 -->\r\n      <g transform=\"translate(20.878125 246.02658)scale(0.1 -0.1)\">\r\n       <use xlink:href=\"#DejaVuSans-49\"/>\r\n       <use x=\"63.623047\" xlink:href=\"#DejaVuSans-46\"/>\r\n       <use x=\"95.410156\" xlink:href=\"#DejaVuSans-53\"/>\r\n      </g>\r\n     </g>\r\n    </g>\r\n    <g id=\"ytick_5\">\r\n     <g id=\"line2d_11\">\r\n      <g>\r\n       <use style=\"stroke:#000000;stroke-width:0.8;\" x=\"43.78125\" xlink:href=\"#m8745abbea2\" y=\"190.197002\"/>\r\n      </g>\r\n     </g>\r\n     <g id=\"text_12\">\r\n      <!-- 2.0 -->\r\n      <g transform=\"translate(20.878125 193.996221)scale(0.1 -0.1)\">\r\n       <use xlink:href=\"#DejaVuSans-50\"/>\r\n       <use x=\"63.623047\" xlink:href=\"#DejaVuSans-46\"/>\r\n       <use x=\"95.410156\" xlink:href=\"#DejaVuSans-48\"/>\r\n      </g>\r\n     </g>\r\n    </g>\r\n    <g id=\"ytick_6\">\r\n     <g id=\"line2d_12\">\r\n      <g>\r\n       <use style=\"stroke:#000000;stroke-width:0.8;\" x=\"43.78125\" xlink:href=\"#m8745abbea2\" y=\"138.166643\"/>\r\n      </g>\r\n     </g>\r\n     <g id=\"text_13\">\r\n      <!-- 2.5 -->\r\n      <g transform=\"translate(20.878125 141.965862)scale(0.1 -0.1)\">\r\n       <use xlink:href=\"#DejaVuSans-50\"/>\r\n       <use x=\"63.623047\" xlink:href=\"#DejaVuSans-46\"/>\r\n       <use x=\"95.410156\" xlink:href=\"#DejaVuSans-53\"/>\r\n      </g>\r\n     </g>\r\n    </g>\r\n    <g id=\"ytick_7\">\r\n     <g id=\"line2d_13\">\r\n      <g>\r\n       <use style=\"stroke:#000000;stroke-width:0.8;\" x=\"43.78125\" xlink:href=\"#m8745abbea2\" y=\"86.136285\"/>\r\n      </g>\r\n     </g>\r\n     <g id=\"text_14\">\r\n      <!-- 3.0 -->\r\n      <g transform=\"translate(20.878125 89.935503)scale(0.1 -0.1)\">\r\n       <defs>\r\n        <path d=\"M 40.578125 39.3125 \r\nQ 47.65625 37.796875 51.625 33 \r\nQ 55.609375 28.21875 55.609375 21.1875 \r\nQ 55.609375 10.40625 48.1875 4.484375 \r\nQ 40.765625 -1.421875 27.09375 -1.421875 \r\nQ 22.515625 -1.421875 17.65625 -0.515625 \r\nQ 12.796875 0.390625 7.625 2.203125 \r\nL 7.625 11.71875 \r\nQ 11.71875 9.328125 16.59375 8.109375 \r\nQ 21.484375 6.890625 26.8125 6.890625 \r\nQ 36.078125 6.890625 40.9375 10.546875 \r\nQ 45.796875 14.203125 45.796875 21.1875 \r\nQ 45.796875 27.640625 41.28125 31.265625 \r\nQ 36.765625 34.90625 28.71875 34.90625 \r\nL 20.21875 34.90625 \r\nL 20.21875 43.015625 \r\nL 29.109375 43.015625 \r\nQ 36.375 43.015625 40.234375 45.921875 \r\nQ 44.09375 48.828125 44.09375 54.296875 \r\nQ 44.09375 59.90625 40.109375 62.90625 \r\nQ 36.140625 65.921875 28.71875 65.921875 \r\nQ 24.65625 65.921875 20.015625 65.03125 \r\nQ 15.375 64.15625 9.8125 62.3125 \r\nL 9.8125 71.09375 \r\nQ 15.4375 72.65625 20.34375 73.4375 \r\nQ 25.25 74.21875 29.59375 74.21875 \r\nQ 40.828125 74.21875 47.359375 69.109375 \r\nQ 53.90625 64.015625 53.90625 55.328125 \r\nQ 53.90625 49.265625 50.4375 45.09375 \r\nQ 46.96875 40.921875 40.578125 39.3125 \r\nz\r\n\" id=\"DejaVuSans-51\"/>\r\n       </defs>\r\n       <use xlink:href=\"#DejaVuSans-51\"/>\r\n       <use x=\"63.623047\" xlink:href=\"#DejaVuSans-46\"/>\r\n       <use x=\"95.410156\" xlink:href=\"#DejaVuSans-48\"/>\r\n      </g>\r\n     </g>\r\n    </g>\r\n    <g id=\"ytick_8\">\r\n     <g id=\"line2d_14\">\r\n      <g>\r\n       <use style=\"stroke:#000000;stroke-width:0.8;\" x=\"43.78125\" xlink:href=\"#m8745abbea2\" y=\"34.105926\"/>\r\n      </g>\r\n     </g>\r\n     <g id=\"text_15\">\r\n      <!-- 3.5 -->\r\n      <g transform=\"translate(20.878125 37.905145)scale(0.1 -0.1)\">\r\n       <use xlink:href=\"#DejaVuSans-51\"/>\r\n       <use x=\"63.623047\" xlink:href=\"#DejaVuSans-46\"/>\r\n       <use x=\"95.410156\" xlink:href=\"#DejaVuSans-53\"/>\r\n      </g>\r\n     </g>\r\n    </g>\r\n    <g id=\"text_16\">\r\n     <!-- Density -->\r\n     <g transform=\"translate(14.798438 227.067031)rotate(-90)scale(0.1 -0.1)\">\r\n      <defs>\r\n       <path d=\"M 19.671875 64.796875 \r\nL 19.671875 8.109375 \r\nL 31.59375 8.109375 \r\nQ 46.6875 8.109375 53.6875 14.9375 \r\nQ 60.6875 21.78125 60.6875 36.53125 \r\nQ 60.6875 51.171875 53.6875 57.984375 \r\nQ 46.6875 64.796875 31.59375 64.796875 \r\nz\r\nM 9.8125 72.90625 \r\nL 30.078125 72.90625 \r\nQ 51.265625 72.90625 61.171875 64.09375 \r\nQ 71.09375 55.28125 71.09375 36.53125 \r\nQ 71.09375 17.671875 61.125 8.828125 \r\nQ 51.171875 0 30.078125 0 \r\nL 9.8125 0 \r\nz\r\n\" id=\"DejaVuSans-68\"/>\r\n       <path d=\"M 54.890625 33.015625 \r\nL 54.890625 0 \r\nL 45.90625 0 \r\nL 45.90625 32.71875 \r\nQ 45.90625 40.484375 42.875 44.328125 \r\nQ 39.84375 48.1875 33.796875 48.1875 \r\nQ 26.515625 48.1875 22.3125 43.546875 \r\nQ 18.109375 38.921875 18.109375 30.90625 \r\nL 18.109375 0 \r\nL 9.078125 0 \r\nL 9.078125 54.6875 \r\nL 18.109375 54.6875 \r\nL 18.109375 46.1875 \r\nQ 21.34375 51.125 25.703125 53.5625 \r\nQ 30.078125 56 35.796875 56 \r\nQ 45.21875 56 50.046875 50.171875 \r\nQ 54.890625 44.34375 54.890625 33.015625 \r\nz\r\n\" id=\"DejaVuSans-110\"/>\r\n       <path d=\"M 44.28125 53.078125 \r\nL 44.28125 44.578125 \r\nQ 40.484375 46.53125 36.375 47.5 \r\nQ 32.28125 48.484375 27.875 48.484375 \r\nQ 21.1875 48.484375 17.84375 46.4375 \r\nQ 14.5 44.390625 14.5 40.28125 \r\nQ 14.5 37.15625 16.890625 35.375 \r\nQ 19.28125 33.59375 26.515625 31.984375 \r\nL 29.59375 31.296875 \r\nQ 39.15625 29.25 43.1875 25.515625 \r\nQ 47.21875 21.78125 47.21875 15.09375 \r\nQ 47.21875 7.46875 41.1875 3.015625 \r\nQ 35.15625 -1.421875 24.609375 -1.421875 \r\nQ 20.21875 -1.421875 15.453125 -0.5625 \r\nQ 10.6875 0.296875 5.421875 2 \r\nL 5.421875 11.28125 \r\nQ 10.40625 8.6875 15.234375 7.390625 \r\nQ 20.0625 6.109375 24.8125 6.109375 \r\nQ 31.15625 6.109375 34.5625 8.28125 \r\nQ 37.984375 10.453125 37.984375 14.40625 \r\nQ 37.984375 18.0625 35.515625 20.015625 \r\nQ 33.0625 21.96875 24.703125 23.78125 \r\nL 21.578125 24.515625 \r\nQ 13.234375 26.265625 9.515625 29.90625 \r\nQ 5.8125 33.546875 5.8125 39.890625 \r\nQ 5.8125 47.609375 11.28125 51.796875 \r\nQ 16.75 56 26.8125 56 \r\nQ 31.78125 56 36.171875 55.265625 \r\nQ 40.578125 54.546875 44.28125 53.078125 \r\nz\r\n\" id=\"DejaVuSans-115\"/>\r\n       <path d=\"M 9.421875 54.6875 \r\nL 18.40625 54.6875 \r\nL 18.40625 0 \r\nL 9.421875 0 \r\nz\r\nM 9.421875 75.984375 \r\nL 18.40625 75.984375 \r\nL 18.40625 64.59375 \r\nL 9.421875 64.59375 \r\nz\r\n\" id=\"DejaVuSans-105\"/>\r\n       <path d=\"M 18.3125 70.21875 \r\nL 18.3125 54.6875 \r\nL 36.8125 54.6875 \r\nL 36.8125 47.703125 \r\nL 18.3125 47.703125 \r\nL 18.3125 18.015625 \r\nQ 18.3125 11.328125 20.140625 9.421875 \r\nQ 21.96875 7.515625 27.59375 7.515625 \r\nL 36.8125 7.515625 \r\nL 36.8125 0 \r\nL 27.59375 0 \r\nQ 17.1875 0 13.234375 3.875 \r\nQ 9.28125 7.765625 9.28125 18.015625 \r\nL 9.28125 47.703125 \r\nL 2.6875 47.703125 \r\nL 2.6875 54.6875 \r\nL 9.28125 54.6875 \r\nL 9.28125 70.21875 \r\nz\r\n\" id=\"DejaVuSans-116\"/>\r\n       <path d=\"M 32.171875 -5.078125 \r\nQ 28.375 -14.84375 24.75 -17.8125 \r\nQ 21.140625 -20.796875 15.09375 -20.796875 \r\nL 7.90625 -20.796875 \r\nL 7.90625 -13.28125 \r\nL 13.1875 -13.28125 \r\nQ 16.890625 -13.28125 18.9375 -11.515625 \r\nQ 21 -9.765625 23.484375 -3.21875 \r\nL 25.09375 0.875 \r\nL 2.984375 54.6875 \r\nL 12.5 54.6875 \r\nL 29.59375 11.921875 \r\nL 46.6875 54.6875 \r\nL 56.203125 54.6875 \r\nz\r\n\" id=\"DejaVuSans-121\"/>\r\n      </defs>\r\n      <use xlink:href=\"#DejaVuSans-68\"/>\r\n      <use x=\"77.001953\" xlink:href=\"#DejaVuSans-101\"/>\r\n      <use x=\"138.525391\" xlink:href=\"#DejaVuSans-110\"/>\r\n      <use x=\"201.904297\" xlink:href=\"#DejaVuSans-115\"/>\r\n      <use x=\"254.003906\" xlink:href=\"#DejaVuSans-105\"/>\r\n      <use x=\"281.787109\" xlink:href=\"#DejaVuSans-116\"/>\r\n      <use x=\"320.996094\" xlink:href=\"#DejaVuSans-121\"/>\r\n     </g>\r\n    </g>\r\n    <g id=\"text_17\">\r\n     <!-- 1e−10 -->\r\n     <g transform=\"translate(43.78125 14.798437)scale(0.1 -0.1)\">\r\n      <defs>\r\n       <path d=\"M 10.59375 35.5 \r\nL 73.1875 35.5 \r\nL 73.1875 27.203125 \r\nL 10.59375 27.203125 \r\nz\r\n\" id=\"DejaVuSans-8722\"/>\r\n      </defs>\r\n      <use xlink:href=\"#DejaVuSans-49\"/>\r\n      <use x=\"63.623047\" xlink:href=\"#DejaVuSans-101\"/>\r\n      <use x=\"125.146484\" xlink:href=\"#DejaVuSans-8722\"/>\r\n      <use x=\"208.935547\" xlink:href=\"#DejaVuSans-49\"/>\r\n      <use x=\"272.558594\" xlink:href=\"#DejaVuSans-48\"/>\r\n     </g>\r\n    </g>\r\n   </g>\r\n   <g id=\"line2d_15\">\r\n    <path clip-path=\"url(#p576a61d38d)\" d=\"M 86.551056 398.308772 \r\nL 93.563203 398.220302 \r\nL 97.069277 398.049549 \r\nL 100.57535 397.649598 \r\nL 104.081424 396.803625 \r\nL 107.587498 395.183372 \r\nL 111.093572 392.36105 \r\nL 114.599645 387.859764 \r\nL 118.105719 381.228885 \r\nL 121.611793 372.119826 \r\nL 125.117867 360.349779 \r\nL 128.62394 345.952724 \r\nL 132.130014 329.199028 \r\nL 135.636088 310.542086 \r\nL 139.142161 290.482618 \r\nL 142.648235 269.413405 \r\nL 146.154309 247.518431 \r\nL 149.660383 224.730564 \r\nL 153.166456 200.734997 \r\nL 156.67253 175.103679 \r\nL 160.178604 147.673443 \r\nL 167.190751 91.037803 \r\nL 170.696825 66.228319 \r\nL 174.202899 47.517925 \r\nL 177.708972 37.120016 \r\nL 181.215046 35.918437 \r\nL 184.72112 43.296059 \r\nL 188.227193 57.522881 \r\nL 191.733267 76.472487 \r\nL 195.239341 98.240017 \r\nL 205.757562 167.069796 \r\nL 209.263636 187.876374 \r\nL 212.769709 206.713289 \r\nL 216.275783 223.758223 \r\nL 219.781857 239.550575 \r\nL 226.794004 269.658526 \r\nL 233.806152 298.942972 \r\nL 237.312225 312.338395 \r\nL 240.818299 323.899539 \r\nL 244.324373 332.950607 \r\nL 247.830447 339.196159 \r\nL 251.33652 342.888982 \r\nL 254.842594 344.835479 \r\nL 258.348668 346.2068 \r\nL 261.854742 348.181952 \r\nL 265.360815 351.545585 \r\nL 268.866889 356.434189 \r\nL 272.372963 362.371254 \r\nL 275.879036 368.556291 \r\nL 279.38511 374.219174 \r\nL 282.891184 378.85832 \r\nL 286.397258 382.312949 \r\nL 289.903331 384.720481 \r\nL 293.409405 386.410202 \r\nL 303.927626 390.355687 \r\nL 307.4337 391.645228 \r\nL 310.939774 392.766864 \r\nL 314.445847 393.582158 \r\nL 317.951921 394.008525 \r\nL 321.457995 394.040756 \r\nL 324.964068 393.747721 \r\nL 335.48229 392.273246 \r\nL 338.988363 392.096887 \r\nL 342.494437 392.260471 \r\nL 346.000511 392.747912 \r\nL 360.024806 395.505961 \r\nL 363.530879 395.937184 \r\nL 367.036953 396.230548 \r\nL 374.049101 396.492587 \r\nL 381.061248 396.362801 \r\nL 395.085543 395.467435 \r\nL 398.591617 395.556712 \r\nL 405.603764 396.197237 \r\nL 412.615911 396.893155 \r\nL 416.121985 397.089517 \r\nL 419.628059 397.126123 \r\nL 423.134133 396.98844 \r\nL 437.158427 395.872573 \r\nL 440.664501 395.912792 \r\nL 444.170575 396.160667 \r\nL 454.688796 397.323445 \r\nL 458.19487 397.558009 \r\nL 465.207017 397.741017 \r\nL 482.737386 397.905127 \r\nL 493.255607 397.835382 \r\nL 510.785976 398.111957 \r\nL 528.316344 397.839096 \r\nL 542.340639 397.92406 \r\nL 552.85886 397.840065 \r\nL 563.377081 398.100903 \r\nL 573.895302 398.289351 \r\nL 598.437818 398.318435 \r\nL 731.66862 398.262124 \r\nL 738.680767 398.073605 \r\nL 752.705062 397.393813 \r\nL 756.211136 397.39652 \r\nL 763.223283 397.705348 \r\nL 770.235431 398.079986 \r\nL 777.247578 398.264233 \r\nL 784.259726 398.311243 \r\nL 784.259726 398.311243 \r\n\" style=\"fill:none;stroke:#0000ff;stroke-linecap:square;stroke-width:1.5;\"/>\r\n   </g>\r\n   <g id=\"line2d_16\">\r\n    <path clip-path=\"url(#p576a61d38d)\" d=\"M 81.826705 398.300414 \r\nL 89.474032 398.196423 \r\nL 93.297696 398.03576 \r\nL 97.12136 397.701685 \r\nL 100.945023 397.034014 \r\nL 104.768687 395.740172 \r\nL 108.592351 393.314039 \r\nL 112.416015 388.958809 \r\nL 116.239679 381.575262 \r\nL 120.063342 369.890849 \r\nL 123.887006 352.76698 \r\nL 127.71067 329.63023 \r\nL 131.534334 300.872502 \r\nL 135.357997 268.023247 \r\nL 139.181661 233.556434 \r\nL 143.005325 200.343197 \r\nL 146.828989 170.932354 \r\nL 150.652652 146.945375 \r\nL 154.476316 128.836719 \r\nL 158.29998 116.090826 \r\nL 162.123644 107.698914 \r\nL 165.947308 102.633645 \r\nL 169.770971 100.10764 \r\nL 173.594635 99.601426 \r\nL 177.418299 100.807149 \r\nL 181.241963 103.629516 \r\nL 185.065626 108.24568 \r\nL 188.88929 115.102776 \r\nL 192.712954 124.749879 \r\nL 196.536618 137.541551 \r\nL 200.360282 153.377028 \r\nL 204.183945 171.635937 \r\nL 219.4786 250.086215 \r\nL 223.302264 267.851254 \r\nL 227.125928 284.437607 \r\nL 230.949592 299.752253 \r\nL 234.773255 313.627924 \r\nL 238.596919 325.852418 \r\nL 242.420583 336.257864 \r\nL 246.244247 344.812493 \r\nL 250.067911 351.66127 \r\nL 253.891574 357.092016 \r\nL 257.715238 361.447259 \r\nL 261.538902 365.031455 \r\nL 265.362566 368.058562 \r\nL 269.186229 370.6545 \r\nL 273.009893 372.898053 \r\nL 276.833557 374.868609 \r\nL 292.128212 381.984575 \r\nL 295.951876 383.726666 \r\nL 299.77554 385.289457 \r\nL 303.599203 386.562421 \r\nL 307.422867 387.490704 \r\nL 311.246531 388.08198 \r\nL 315.070195 388.388404 \r\nL 318.893858 388.486319 \r\nL 330.36485 388.487801 \r\nL 334.188514 388.709967 \r\nL 338.012177 389.126482 \r\nL 345.659505 390.346115 \r\nL 353.306832 391.483608 \r\nL 357.130496 391.86577 \r\nL 364.777824 392.269661 \r\nL 372.425151 392.511555 \r\nL 376.248815 392.734395 \r\nL 380.072479 393.091192 \r\nL 387.719806 394.168399 \r\nL 395.367134 395.329661 \r\nL 399.190798 395.781825 \r\nL 403.014462 396.107354 \r\nL 410.661789 396.417085 \r\nL 425.956444 396.724395 \r\nL 445.074763 397.420871 \r\nL 460.369418 397.652379 \r\nL 468.016746 397.597501 \r\nL 487.135065 397.02979 \r\nL 506.253383 396.466323 \r\nL 510.077047 396.593461 \r\nL 517.724375 397.182398 \r\nL 525.371702 397.816749 \r\nL 533.01903 398.151894 \r\nL 540.666357 398.197781 \r\nL 555.961012 397.916921 \r\nL 582.726659 397.372332 \r\nL 609.492305 396.749751 \r\nL 617.139633 396.975202 \r\nL 628.610624 397.585144 \r\nL 640.081615 397.863681 \r\nL 659.199934 398.133938 \r\nL 685.965581 398.017219 \r\nL 705.0839 398.29591 \r\nL 743.320537 398.318437 \r\nL 789.204503 398.220121 \r\nL 812.146485 397.948361 \r\nL 842.735795 398.314088 \r\nL 842.735795 398.314088 \r\n\" style=\"fill:none;stroke:#008000;stroke-linecap:square;stroke-width:1.5;\"/>\r\n   </g>\r\n   <g id=\"patch_3\">\r\n    <path d=\"M 43.78125 398.318437 \r\nL 43.78125 17.798437 \r\n\" style=\"fill:none;stroke:#000000;stroke-linecap:square;stroke-linejoin:miter;stroke-width:0.8;\"/>\r\n   </g>\r\n   <g id=\"patch_4\">\r\n    <path d=\"M 880.78125 398.318437 \r\nL 880.78125 17.798437 \r\n\" style=\"fill:none;stroke:#000000;stroke-linecap:square;stroke-linejoin:miter;stroke-width:0.8;\"/>\r\n   </g>\r\n   <g id=\"patch_5\">\r\n    <path d=\"M 43.78125 398.318437 \r\nL 880.78125 398.318437 \r\n\" style=\"fill:none;stroke:#000000;stroke-linecap:square;stroke-linejoin:miter;stroke-width:0.8;\"/>\r\n   </g>\r\n   <g id=\"patch_6\">\r\n    <path d=\"M 43.78125 17.798437 \r\nL 880.78125 17.798437 \r\n\" style=\"fill:none;stroke:#000000;stroke-linecap:square;stroke-linejoin:miter;stroke-width:0.8;\"/>\r\n   </g>\r\n  </g>\r\n </g>\r\n <defs>\r\n  <clipPath id=\"p576a61d38d\">\r\n   <rect height=\"380.52\" width=\"837\" x=\"43.78125\" y=\"17.798437\"/>\r\n  </clipPath>\r\n </defs>\r\n</svg>\r\n",
      "image/png": "[encoded data removed]"
     },
     "metadata": {
      "needs_background": "light"
     }
    }
   ],
   "source": [
    "plt.figure(figsize=(15, 7))\n",
    "sns.distplot(y_pred, kde=True, hist = False, color= 'blue')\n",
    "sns.distplot(y_test,kde=True, hist = False, color= 'green')\n",
    "plt.show()"
   ]
  },
  {
   "cell_type": "code",
   "execution_count": null,
   "metadata": {},
   "outputs": [],
   "source": []
  }
 ]
}