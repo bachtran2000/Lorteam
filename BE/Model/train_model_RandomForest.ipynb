{
 "metadata": {
  "language_info": {
   "codemirror_mode": {
    "name": "ipython",
    "version": 3
   },
   "file_extension": ".py",
   "mimetype": "text/x-python",
   "name": "python",
   "nbconvert_exporter": "python",
   "pygments_lexer": "ipython3",
   "version": "3.8.5-final"
  },
  "orig_nbformat": 2,
  "kernelspec": {
   "name": "python3",
   "display_name": "Python 3"
  }
 },
 "nbformat": 4,
 "nbformat_minor": 2,
 "cells": [
  {
   "cell_type": "code",
   "execution_count": 1,
   "metadata": {},
   "outputs": [],
   "source": [
    "import pandas as pd\n",
    "import numpy as np"
   ]
  },
  {
   "cell_type": "code",
   "execution_count": 113,
   "metadata": {},
   "outputs": [],
   "source": [
    "data= pd.read_csv('data_clean_train_NDT_24_10.csv',index_col = False)"
   ]
  },
  {
   "cell_type": "code",
   "execution_count": 114,
   "metadata": {},
   "outputs": [
    {
     "output_type": "stream",
     "name": "stdout",
     "text": [
      "{'Công ty CP Đầu tư Hải Đăng': 32, 'Công ty CP tập đoàn S.S.G': 35, 'Tập đoàn Vingroup': 1399, 'Công ty CP Tập đoàn Sunshine': 263, nan: 1961, 'Công ty CP Đầu tư Phát triển Nhà Thăng Long - Việt Nam': 21, 'Tập đoàn Sun Group': 139, 'Công ty TNHH Thương mại - Quảng cáo - Xây dựng - Địa ốc Việt Hân': 220, 'Công ty CP Đầu tư Xây dựng số 9 Hà Nội': 149, 'Tân Hoàng Minh Group': 358, 'Công ty CP Xây dựng và Phát triển Hạ tầng Đô thị - BID Việt Nam': 37, 'Công ty CP Bất động sản Hanovid': 32, 'Tập đoàn CapitaLand': 106, 'Công ty CP đầu tư phát triển nhà và đô thị VINACONEX': 5, 'Công ty CP Bất động sản Hải Phát': 118, 'Công ty TNHH phát triển khu đô thị Nam Thăng Long': 139, 'Công ty CP Xây lắp Điện 1': 77, 'Công ty CP Xuất nhập khẩu tổng hợp Hà Nội - Geleximco': 214, 'Công ty Booyoung': 68, 'Công ty xây dựng 319 Bộ Quốc phòng': 33, 'Công ty CP Tập đoàn Nam Cường Hà Nội': 182, 'Tổng công ty CP Xuất nhập khẩu và Xây dựng Việt Nam': 48, 'Tập đoàn Hà Đô': 36, 'Công ty CP Terra Gold Việt Nam': 44, 'Công ty CP Sông Đà 1.01': 15, 'HD Mon Holdings': 98, 'Công ty CP Đầu tư Phát triển Đô thị Thăng Long': 11, 'Công ty TNHH Thương mại - Dịch vụ - Đầu tư Công đoàn Ngân hàng Công thương Việt Nam': 1, 'Công ty TNHH Bất động sản và Xây dựng Việt Hưng': 98, 'Công ty CP Đầu tư Lạc Hồng': 16, 'Công ty CP Tháp nước Hà Nội': 3, 'Tổng công ty Cơ khí Xây dựng - Coma': 19, 'Công ty CP Xây dựng Sông Hồng - Incomex': 19, 'Công ty CP Đầu tư và Phát triển nhà số 6 Hà Nội ': 4, 'Công ty CP Hóa Dầu Quân Đội': 60, 'Công ty CP Lắp Máy Điện nước và Xây Dựng': 4, 'Công ty CP Đầu tư Văn Phú - Invest': 113, 'Công ty TNHH Gamuda Land Việt Nam': 98, 'Tập đoàn Mường Thanh': 19, 'Tập đoàn Jaccar Bourbon': 2, 'Công ty CP Đầu tư Phát triển nhà và Xây dựng Tây Hồ': 10, 'Công ty TNHH Phát triển T.H.T': 11, 'Tổng công ty Xây dựng Thanh Hóa - Công ty Cổ phần': 59, 'Công ty CP Đầu tư Kinh doanh và Phát triển hạ tầng KCN Phúc Hà': 30, 'Bộ Tham Mưu - Bộ Tư Lệnh Bộ Đội Biên Phòng': 4, 'Công ty TNHH Khải Hưng': 17, 'Doanh nghiệp tư nhân xây dựng số 1 tỉnh Điện Biên': 272, 'Công ty CP Sông Đà 7': 98, 'Tổng công ty Đầu tư Phát triển Hạ tầng đô thị - UDIC': 133, 'Công ty CP ACC - Thăng Long': 3, 'Công ty CP Đầu tư Bất động sản Đông Đô - BQP': 20, 'Tổng Công ty Đầu tư Phát triển Nhà và Đô thị HUD': 175, 'Công ty CP Sông Đà Thăng Long': 35, 'Công ty TNHH Indochina Land': 33, 'Công ty CP Đầu tư Dầu khí Toàn cầu ': 41, 'Công ty CP Xây dựng và Thương mại Bắc Hà': 119, 'Công ty CP Đầu tư và Phát triển Hòa Bình - HBI': 106, 'Công ty CP Đầu tư - Thiết kế và Xây dựng Việt Nam': 71, 'Công ty TNHH MTV đầu tư Phương Đông': 60, 'Công ty CP Xây dựng số 2 - Vinaconex2': 82, 'Công ty Cổ phần Đầu tư Mai Linh': 17, 'Công ty CP Đại Việt Trí Tuệ': 36, 'Công ty CP Xây dựng và Kỹ thuật Việt Nam ': 20, 'Công ty CP Hạ tầng và Bất động sản Việt Nam ': 1, 'Công ty CP Đầu tư và Xây dựng HUD3': 25, 'Tổng Công ty Đầu tư phát triển nhà và đô thị Bộ Quốc Phòng ': 28, 'Công ty CP TID': 5, 'Công ty CP Đầu tư Hải Phát': 34, 'Công ty TNHH 19-12 Bắc Hà': 54, 'Tổng công ty 789 ': 11, 'Công ty CP Ngôi sao An Bình': 46, 'Công ty CP thương mại Cầu Giấy CTM': 3, 'Công ty CP Đầu tư và Xây dựng Xuân Mai': 50, 'Tập đoàn Tecco': 3, 'Công ty CP Lộc Ninh': 8, 'Công ty CP Đầu tư Sài Gòn - Hà Nội': 17, 'Công ty Đầu tư Xây dựng số 2 Hà Nội': 77, 'Công ty CP xây dựng số 1 Hà Nội': 26, 'Tổng Công ty CP Thương mại Xây dựng': 5, 'Công ty CP Đầu tư Phú Thượng ': 146, 'Công ty TSQ Việt Nam': 94, 'Công ty TNHH Đầu tư C.T.L': 9, 'Công ty TNHH Bánh kẹo Thăng Long': 14, 'Công ty CP Đầu tư và Xuất nhập khẩu Mỹ Sơn': 7, 'Công ty CP Xây dựng số 3 - VINACONEX3': 45, 'Công ty CP Đầu tư Xây dựng Phát triển nhà số 7 Hà Nội ': 62, 'Công ty TNHH Đầu tư Xây dựng và Phát triển Hạ tầng': 16, 'Tổng công ty CP Phong Phú': 17, 'Công ty CP Đầu tư và Thương mại Thăng Long': 32, 'Tổng Công ty Viglacera': 56, 'Xí nghiệp Xây dựng Tư nhân Số 1 Lai Châu': 59, 'Công ty CP may Hồ Gươm - HOGARSCO': 11, 'Công ty CP Đầu tư Hải Phát Thủ Đô': 18, 'Công ty Cổ phần Tập đoàn FLC': 64, 'Công ty Cổ phần Licogi 12': 4, 'Công ty CP Đầu tư An Lạc': 5, 'Công ty CP Phát triển Đô thị Từ Liêm - LIDECO, JSC': 30, 'Tập đoàn Bitexco': 37, 'Công ty CP Đầu tư và Xây dựng số 1 Hà Nội': 24, 'Công ty CP Vimeco': 46, 'Công ty CP Tập đoàn Xây dựng và Thiết bị Công nghiệp CIE Corp': 48, 'Công ty CP Phát triển tài trợ  Địa ốc R.C': 56, 'Công ty TNHH Thiên Hương': 40, 'Tổng công ty đầu tư phát triển nhà và đô thị Bộ Quốc Phòng': 26, 'Công ty TNHH Hyundai RNC Hà Tây': 9, 'Công ty CP Phát triển Đô thị Quốc tế Việt  Nam': 2, 'Công ty CP Đầu tư và Thương mại Thủ Đô': 52, 'Công ty CP Đầu tư Xây dựng Hạ tầng và Giao Thông': 17, 'Tổng Công ty Đầu Tư và Phát Triển Nhà Hà Nội - Handico': 46, 'Công ty Xây dựng Dân Dụng': 40, 'Công ty CP Đầu tư XD và xuất nhập khẩu Phục Hưng': 1, 'Công ty CP Tòa nhà CFTD-VLA': 32, 'Công ty CP Nông sản Agrexim': 19, 'Công ty CP Đầu tư Dịch vụ Tài chính Hoàng Huy': 12, 'Tập đoàn Anh Quân Strong ': 22, 'Tập đoàn Hòa Phát': 34, 'Công ty CP Đầu tư và Phát triển Đô thị Long Giang': 26, 'Công ty CP Đầu tư và Xây dựng HUD1': 17, 'Công ty CP Eurowindow Holding': 27, '5': 15, 'Tổng công ty 36 - Bộ quốc phòng': 37, 'Công ty CP Eco Land': 36, 'Công ty CP BIC Việt Nam': 13, 'Công ty CP Đầu tư Bất động sản Phú Mỹ': 10, 'Công ty CP Xây dựng số 7': 7, 'Công ty CP Tập đoàn T&T': 14, 'Công ty CP Đầu tư Phát triển Đô thị và KCN Sông Đà - Sudico': 16, 'Công ty CP Sông Đà - Hoàng Long ': 33, 'Công ty CP Thương mại Minh Vĩnh Khang': 10, 'Công ty CP Tập đoàn Xây dựng Nhà Đất': 1, 'Công ty TNHH Hanotex': 16, 'Công ty CP đầu tư & xây dựng Ba Đình số 1': 1, 'Công ty CP Đầu tư Hạ tầng và Công trình Kiến trúc Hà Nội': 24, 'OCEAN GROUP - Tập Đoàn Đại Dương': 11, 'Công ty CP Xây dựng Công nghiệp - DESCON': 10, 'Công ty Thương mại Dịch vụ Tràng Thi': 2, 'Công ty CP Xây dựng Phục Hưng Holdings': 14, 'Công ty Cổ phần 118  – Momota': 6, 'Công ty CP Đầu tư Đồng Phát': 4, 'Công ty TNHH Khách sạn Kinh Đô': 4, 'Công ty Cổ phần Địa ốc MB': 16, 'Công ty CP Thi công cơ giới xây lắp': 15, 'Công ty CP Đầu tư Bất động sản Hapulico': 8, 'Tổng công ty Xây dựng Hà Nội': 15, 'Công ty CP tập đoàn ĐTXD phát triển Đông Đô - BQP': 3, ' Công ty TNHH Một thành viên quản lý và phát triển nhà Hà Nội': 8, 'Công ty Liên doanh Hà Việt – Tungshing': 14, 'Công ty CP Đầu Tư Xây Dựng và Phát Triển Đô Thị Sông Đà': 5, 'Công ty CP Xây dựng Công nghiệp ICC': 2, 'Tổng công ty Phát triển Phát thanh Truyền hình Thông tin Emico': 12, 'Công ty CP Hoa Anh Đào': 14, 'Công ty CP Tư vấn & Đầu tư Xây dựng Đông Dương': 1, 'Công ty CP Thiết bị Vật tư Du Lịch': 4, 'Công ty CP Dịch vụ Hàng không Thăng Long ': 8, 'Tổng Công ty CP Đầu tư Xây dựng và Thương mại Việt Nam': 5, 'Công ty CP Đầu tư Thương mại Dịch vụ Cầu Giấy': 23, 'Công ty Cổ phần Cơ điện và Xây dựng Việt Nam': 3, 'Công ty TNHH Quốc tế Liên doanh VINACONEX – TAISEI ': 5, 'Công ty CP Đầu tư và Phát triển nhà Hà Nội số 68 - HANDICO 68': 3, 'Công ty CP Đầu tư và Xây dựng Quốc tế Vigeba': 8, 'Công ty TNHH Nhà nước MTV Kinh doanh Dịch vụ nhà Hà Nội': 3, 'Công ty CP Đầu tư Xây dựng Dân dụng Hà Nội ': 2, 'Công ty TNHH Đá quý Thế giới ': 1, 'Công ty CP Đầu tư phát triển nhà Constrexim': 9, 'Công TNHH Bắc Chương Dương': 12, 'Công ty CP Đầu tư – Xây dựng Tây Hà': 5, 'Công ty CP Đầu tư và Kinh doanh Bất động sản Hà Nội Sông Hồng': 1, 'Công ty CP Đầu tư Địa ốc Sông Hồng': 2, 'Công ty CP đầu tư xây dựng và phát triển nhà số 5  ': 4, 'C.T Group': 3, 'Công ty TNHH Xuân Phương': 7, 'Công ty Cổ phần Tasco': 8, 'Công ty TNHH Hibrand Việt Nam': 1, 'Công ty CP Tư vấn Đầu tư Dự án Quốc tế': 1, 'Công ty CP tập đoàn Đầu tư Ba Đình (B.I.G)': 9, 'Công ty CP Phát triển Thanh Xuân': 14, 'Công ty CP Đầu tư Điện lực Hà Nội': 14, 'Công ty CP Đầu tư xây dựng và phát triển Công nghệ cao - Decotech': 6, 'Công ty CP Đầu tư Xây dựng NHS': 8, 'Công ty Cổ phần Đầu tư Bất động sản An Bình': 2, 'Công ty Cổ phần Xây Dựng Số 5': 1, 'Công ty TNHH Hoà Bình': 5, 'Công ty CP Xây dựng và Phát triển Đô thị Hòa Phát': 7, 'Công ty Cổ phần TASCO': 1, 'Tập đoàn Keangnam Enterprise': 2, 'Công ty CP Tu tạo và Phát triển nhà - Handico': 6, 'Công ty TNHH Thăng Long ': 7, 'Công ty CP Xây dựng Bảo tàng Hồ Chí Minh': 2, 'Công ty CP Trần Hưng Đạo': 3, 'Công ty CP Đầu tư và Phát triển nhà Hà Nội 22 (Handico 22)': 1, 'Công ty Xây dựng số 3 Hà Nội ': 10, 'Công ty TNHH Berjaya-Handico12': 1, 'Công ty CP Đầu tư Đô thị Kang Long': 4, 'Công ty CP Bất động sản Dầu khí - Petrowaco': 2, 'Công ty CP Đầu tư Phát triển Hà Thành': 2, 'Công ty CP Vinaconex 6': 2, 'Công ty CP May Thăng Long': 5, 'Công ty CP Xây dựng Số 1': 2, 'Công ty CP Thương mại Hà Tây': 2, 'Công ty TNHH Xây dựng và Thương mại Bình Vượng': 1, 'Công ty CP Thương mại và Dịch vụ Tổng hợp Vinh Hạnh': 2, 'TTTM XNK Hàng tiêu dùng và Thủ công Mỹ nghệ Hà Nội': 1, 'Công ty CP Cơ khí Xây dựng Đại Mỗ - Coma 6': 3, 'Công ty CP Vinaconex 21': 1, 'Công ty CP Kỹ nghệ và Hạ tầng Talin': 2, 'Công ty TNHH MTV Đầu  tư Xây lắp và Phát triển Nhà': 2, 'Công ty CP Him Lam': 1, 'Công ty CP Đầu tư Xây dựng BĐS Lanmak': 2, 'Công ty TNHH xây dựng công trình Hoàng Hà': 1, 'Tập đoàn BRG': 1, 'Công ty CP Đầu tư và Xây dựng Tân Việt': 2, 'Công ty CP Sản xuất Dịch vụ Xuất nhập khẩu Từ Liêm': 2, 'Công ty CP Đầu tư Bất động sản Quang Minh': 1, 'Công ty CP tư vấn Thủy Lợi Hà Tây': 1, 'Công ty CP Đầu tư Xây dựng Vinaconex - PVC': 1, 'Công ty CP Đầu tư và Phát triển Hạ tầng VINACONEX - ALPHANAM': 1, 'Công ty CP Kinh doanh Phát triển nhà và Đô thị Hà Nội (HanHud)': 1, 'Công ty CP Tập đoàn Trung Thủy': 4, 'Công ty CP Sản xuất và Xuất nhập khẩu Bao bì': 2, 'Công ty Thương mại Dịch vụ Thời trang Hà Nội': 1, 'Công ty CP SME Hoàng Gia': 1, 'Công ty CP Mộc và Xây dựng Hà Nội': 1}\n"
     ]
    },
    {
     "output_type": "execute_result",
     "data": {
      "text/plain": [
       "0          32\n",
       "1          35\n",
       "2        1399\n",
       "3        1399\n",
       "4        1399\n",
       "         ... \n",
       "10126     272\n",
       "10127     272\n",
       "10128       1\n",
       "10129     272\n",
       "10130      98\n",
       "Name: Chủ đầu tư, Length: 10131, dtype: int32"
      ]
     },
     "metadata": {},
     "execution_count": 114
    }
   ],
   "source": [
    "dict = {}\n",
    "count = 0\n",
    "for nhaDauTu in data['Chủ đầu tư']:\n",
    "    if(nhaDauTu in dict) == False:\n",
    "        dict[nhaDauTu]=  1\n",
    "    else:\n",
    "        dict[nhaDauTu]= dict[nhaDauTu] + 1\n",
    "print(dict)\n",
    "for i in range(len(data['Chủ đầu tư'])):\n",
    "    for kiemTra in dict.keys():\n",
    "        if kiemTra == data['Chủ đầu tư'][i]:\n",
    "           data['Chủ đầu tư'][i] = dict[kiemTra]\n",
    "data['Chủ đầu tư'] = data['Chủ đầu tư'].fillna(1)\n",
    "data['Chủ đầu tư'].astype(int)"
   ]
  },
  {
   "cell_type": "code",
   "execution_count": 115,
   "metadata": {},
   "outputs": [
    {
     "output_type": "execute_result",
     "data": {
      "text/plain": [
       "       Unnamed: 0                                            Địa chỉ  \\\n",
       "0               0  \\n        Dự án Mon City - Hải Đăng City, Đườn...   \n",
       "1               1  \\n        Dự án Mỹ Đình Pearl, Đường Châu Văn ...   \n",
       "2               2  \\n        Dự án Royal City, Đường Nguyễn Trãi,...   \n",
       "3               3  \\n        Dự án Royal City, Đường Nguyễn Trãi,...   \n",
       "4               4  \\n        Dự án Vinhomes Skylake, Đường Phạm H...   \n",
       "...           ...                                                ...   \n",
       "10126       10126  \\n        Dự án HH1 Linh Đàm, Đường Linh Đường...   \n",
       "10127       10127  \\n        Dự án HH3 Linh Đàm, Đường Linh Đường...   \n",
       "10128       10128  \\n        Dự án Tecco Garden, Đường Quang Lai,...   \n",
       "10129       10129   \\n        Dự án KĐT Xa La, Hà Đông, Hà Nội\\n       \n",
       "10130       10130  \\n        Eco Dream, số 300, Đường Nguyễn Xiển...   \n",
       "\n",
       "                Giá  Diện tích  Số phòng ngủ  Số toilet Hướng nhà  \\\n",
       "0      3.100000e+09      86.00             3          2       NaN   \n",
       "1      2.900000e+09      79.00             2          2  Đông-Bắc   \n",
       "2      2.400000e+09      55.00             2          2       NaN   \n",
       "3      3.300000e+09      88.00             2          2       NaN   \n",
       "4      2.600000e+09      65.64             2          2  Đông-Bắc   \n",
       "...             ...        ...           ...        ...       ...   \n",
       "10126  1.140000e+09      60.00             2          2       NaN   \n",
       "10127  1.280000e+09      63.00             2          2       NaN   \n",
       "10128  1.880000e+09     106.60             3          2       NaN   \n",
       "10129  7.700000e+08      53.40             1          1  Đông-Nam   \n",
       "10130  2.500000e+09      98.00             3          2       NaN   \n",
       "\n",
       "      Hướng ban công  Nội thất  Chủ đầu tư  \\\n",
       "0            Tây-Nam         1          32   \n",
       "1            Tây-Nam         1          35   \n",
       "2                NaN         0        1399   \n",
       "3           Đông-Nam         1        1399   \n",
       "4            Tây-Nam         1        1399   \n",
       "...              ...       ...         ...   \n",
       "10126       Đông-Nam         1         272   \n",
       "10127            NaN         1         272   \n",
       "10128            NaN         0           1   \n",
       "10129        Tây-Nam         0         272   \n",
       "10130            NaN         0          98   \n",
       "\n",
       "                                                  Quy mô      Vĩ độ  \\\n",
       "0      Gồm 2 khu Mon Street (147 căn nhà phố thương m...  21.035120   \n",
       "1                       Gồm khách sạn, văn phòng, căn hộ  21.012432   \n",
       "2                                             Gồm: 6 tòa  21.002666   \n",
       "3                                             Gồm: 6 tòa  21.002666   \n",
       "4                                                    NaN  21.019083   \n",
       "...                                                  ...        ...   \n",
       "10126       Gồm 3 tòa A - B - C cạnh nhau và cao 40 tầng  20.964735   \n",
       "10127                              Gồm 3 tòa cao 35 tầng  20.963598   \n",
       "10128                    4 block cao 25 tầng, 736 căn hộ  20.932673   \n",
       "10129              10 toà nhà chung cư từ 21 đến 34 tầng  20.962467   \n",
       "10130             27 tầng cao, 3 tầng hầm và 2 tầng TTTM  20.983063   \n",
       "\n",
       "          Kinh độ  \n",
       "0      105.767433  \n",
       "1      105.767395  \n",
       "2      105.815430  \n",
       "3      105.815430  \n",
       "4      105.781731  \n",
       "...           ...  \n",
       "10126  105.826363  \n",
       "10127  105.828033  \n",
       "10128  105.850075  \n",
       "10129  105.792366  \n",
       "10130  105.809082  \n",
       "\n",
       "[10131 rows x 13 columns]"
      ],
      "text/html": "<div>\n<style scoped>\n    .dataframe tbody tr th:only-of-type {\n        vertical-align: middle;\n    }\n\n    .dataframe tbody tr th {\n        vertical-align: top;\n    }\n\n    .dataframe thead th {\n        text-align: right;\n    }\n</style>\n<table border=\"1\" class=\"dataframe\">\n  <thead>\n    <tr style=\"text-align: right;\">\n      <th></th>\n      <th>Unnamed: 0</th>\n      <th>Địa chỉ</th>\n      <th>Giá</th>\n      <th>Diện tích</th>\n      <th>Số phòng ngủ</th>\n      <th>Số toilet</th>\n      <th>Hướng nhà</th>\n      <th>Hướng ban công</th>\n      <th>Nội thất</th>\n      <th>Chủ đầu tư</th>\n      <th>Quy mô</th>\n      <th>Vĩ độ</th>\n      <th>Kinh độ</th>\n    </tr>\n  </thead>\n  <tbody>\n    <tr>\n      <th>0</th>\n      <td>0</td>\n      <td>\\n        Dự án Mon City - Hải Đăng City, Đườn...</td>\n      <td>3.100000e+09</td>\n      <td>86.00</td>\n      <td>3</td>\n      <td>2</td>\n      <td>NaN</td>\n      <td>Tây-Nam</td>\n      <td>1</td>\n      <td>32</td>\n      <td>Gồm 2 khu Mon Street (147 căn nhà phố thương m...</td>\n      <td>21.035120</td>\n      <td>105.767433</td>\n    </tr>\n    <tr>\n      <th>1</th>\n      <td>1</td>\n      <td>\\n        Dự án Mỹ Đình Pearl, Đường Châu Văn ...</td>\n      <td>2.900000e+09</td>\n      <td>79.00</td>\n      <td>2</td>\n      <td>2</td>\n      <td>Đông-Bắc</td>\n      <td>Tây-Nam</td>\n      <td>1</td>\n      <td>35</td>\n      <td>Gồm khách sạn, văn phòng, căn hộ</td>\n      <td>21.012432</td>\n      <td>105.767395</td>\n    </tr>\n    <tr>\n      <th>2</th>\n      <td>2</td>\n      <td>\\n        Dự án Royal City, Đường Nguyễn Trãi,...</td>\n      <td>2.400000e+09</td>\n      <td>55.00</td>\n      <td>2</td>\n      <td>2</td>\n      <td>NaN</td>\n      <td>NaN</td>\n      <td>0</td>\n      <td>1399</td>\n      <td>Gồm: 6 tòa</td>\n      <td>21.002666</td>\n      <td>105.815430</td>\n    </tr>\n    <tr>\n      <th>3</th>\n      <td>3</td>\n      <td>\\n        Dự án Royal City, Đường Nguyễn Trãi,...</td>\n      <td>3.300000e+09</td>\n      <td>88.00</td>\n      <td>2</td>\n      <td>2</td>\n      <td>NaN</td>\n      <td>Đông-Nam</td>\n      <td>1</td>\n      <td>1399</td>\n      <td>Gồm: 6 tòa</td>\n      <td>21.002666</td>\n      <td>105.815430</td>\n    </tr>\n    <tr>\n      <th>4</th>\n      <td>4</td>\n      <td>\\n        Dự án Vinhomes Skylake, Đường Phạm H...</td>\n      <td>2.600000e+09</td>\n      <td>65.64</td>\n      <td>2</td>\n      <td>2</td>\n      <td>Đông-Bắc</td>\n      <td>Tây-Nam</td>\n      <td>1</td>\n      <td>1399</td>\n      <td>NaN</td>\n      <td>21.019083</td>\n      <td>105.781731</td>\n    </tr>\n    <tr>\n      <th>...</th>\n      <td>...</td>\n      <td>...</td>\n      <td>...</td>\n      <td>...</td>\n      <td>...</td>\n      <td>...</td>\n      <td>...</td>\n      <td>...</td>\n      <td>...</td>\n      <td>...</td>\n      <td>...</td>\n      <td>...</td>\n      <td>...</td>\n    </tr>\n    <tr>\n      <th>10126</th>\n      <td>10126</td>\n      <td>\\n        Dự án HH1 Linh Đàm, Đường Linh Đường...</td>\n      <td>1.140000e+09</td>\n      <td>60.00</td>\n      <td>2</td>\n      <td>2</td>\n      <td>NaN</td>\n      <td>Đông-Nam</td>\n      <td>1</td>\n      <td>272</td>\n      <td>Gồm 3 tòa A - B - C cạnh nhau và cao 40 tầng</td>\n      <td>20.964735</td>\n      <td>105.826363</td>\n    </tr>\n    <tr>\n      <th>10127</th>\n      <td>10127</td>\n      <td>\\n        Dự án HH3 Linh Đàm, Đường Linh Đường...</td>\n      <td>1.280000e+09</td>\n      <td>63.00</td>\n      <td>2</td>\n      <td>2</td>\n      <td>NaN</td>\n      <td>NaN</td>\n      <td>1</td>\n      <td>272</td>\n      <td>Gồm 3 tòa cao 35 tầng</td>\n      <td>20.963598</td>\n      <td>105.828033</td>\n    </tr>\n    <tr>\n      <th>10128</th>\n      <td>10128</td>\n      <td>\\n        Dự án Tecco Garden, Đường Quang Lai,...</td>\n      <td>1.880000e+09</td>\n      <td>106.60</td>\n      <td>3</td>\n      <td>2</td>\n      <td>NaN</td>\n      <td>NaN</td>\n      <td>0</td>\n      <td>1</td>\n      <td>4 block cao 25 tầng, 736 căn hộ</td>\n      <td>20.932673</td>\n      <td>105.850075</td>\n    </tr>\n    <tr>\n      <th>10129</th>\n      <td>10129</td>\n      <td>\\n        Dự án KĐT Xa La, Hà Đông, Hà Nội\\n</td>\n      <td>7.700000e+08</td>\n      <td>53.40</td>\n      <td>1</td>\n      <td>1</td>\n      <td>Đông-Nam</td>\n      <td>Tây-Nam</td>\n      <td>0</td>\n      <td>272</td>\n      <td>10 toà nhà chung cư từ 21 đến 34 tầng</td>\n      <td>20.962467</td>\n      <td>105.792366</td>\n    </tr>\n    <tr>\n      <th>10130</th>\n      <td>10130</td>\n      <td>\\n        Eco Dream, số 300, Đường Nguyễn Xiển...</td>\n      <td>2.500000e+09</td>\n      <td>98.00</td>\n      <td>3</td>\n      <td>2</td>\n      <td>NaN</td>\n      <td>NaN</td>\n      <td>0</td>\n      <td>98</td>\n      <td>27 tầng cao, 3 tầng hầm và 2 tầng TTTM</td>\n      <td>20.983063</td>\n      <td>105.809082</td>\n    </tr>\n  </tbody>\n</table>\n<p>10131 rows × 13 columns</p>\n</div>"
     },
     "metadata": {},
     "execution_count": 115
    }
   ],
   "source": [
    "data"
   ]
  },
  {
   "cell_type": "code",
   "execution_count": 116,
   "metadata": {},
   "outputs": [],
   "source": [
    "attributes = list(['Diện tích','Số phòng ngủ','Số toilet','Chủ đầu tư','Vĩ độ','Kinh độ','Nội thất'])\n",
    "X = data[attributes]"
   ]
  },
  {
   "cell_type": "code",
   "execution_count": 117,
   "metadata": {},
   "outputs": [],
   "source": [
    "y = dataset['Giá']"
   ]
  },
  {
   "cell_type": "code",
   "execution_count": 118,
   "metadata": {},
   "outputs": [],
   "source": [
    "from sklearn.model_selection import train_test_split\n",
    "\n",
    "X_train, X_test, y_train, y_test = train_test_split(X, y, test_size=0.2, random_state=0)"
   ]
  },
  {
   "cell_type": "code",
   "execution_count": 119,
   "metadata": {},
   "outputs": [],
   "source": [
    "from sklearn.preprocessing import StandardScaler\n",
    "\n",
    "sc = StandardScaler()\n",
    "X_train = sc.fit_transform(X_train)\n",
    "X_test = sc.transform(X_test)"
   ]
  },
  {
   "cell_type": "code",
   "execution_count": 120,
   "metadata": {},
   "outputs": [],
   "source": [
    "from sklearn.ensemble import RandomForestRegressor\n",
    "\n",
    "regressor = RandomForestRegressor(n_estimators=20, random_state=0)\n",
    "regressor.fit(X_train, y_train)\n",
    "y_pred = regressor.predict(X_test)"
   ]
  },
  {
   "cell_type": "code",
   "execution_count": 125,
   "metadata": {},
   "outputs": [
    {
     "output_type": "stream",
     "name": "stdout",
     "text": [
      "Mean Absolute Error: 271121923.5657609\nMean Squared Error: 4.1632104924431725e+17\nR2 : 0.8996729960615304\nRoot Mean Squared Error: 645229454.7246872\n"
     ]
    }
   ],
   "source": [
    "from sklearn import metrics\n",
    "\n",
    "print('Mean Absolute Error:', metrics.mean_absolute_error(y_test, y_pred))\n",
    "print('Mean Squared Error:', metrics.mean_squared_error(y_test, y_pred))\n",
    "print('R2 :', metrics.r2_score(y_test, y_pred))\n",
    "print('Root Mean Squared Error:', np.sqrt(metrics.mean_squared_error(y_test, y_pred)))"
   ]
  },
  {
   "cell_type": "code",
   "execution_count": 122,
   "metadata": {},
   "outputs": [
    {
     "output_type": "execute_result",
     "data": {
      "text/plain": [
       "0.8996729960615304"
      ]
     },
     "metadata": {},
     "execution_count": 122
    }
   ],
   "source": [
    "regressor.score(X_test,y_test)"
   ]
  },
  {
   "cell_type": "code",
   "execution_count": null,
   "metadata": {},
   "outputs": [],
   "source": []
  }
 ]
}